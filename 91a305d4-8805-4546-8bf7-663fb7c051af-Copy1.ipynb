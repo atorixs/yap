{
 "cells": [
  {
   "cell_type": "markdown",
   "id": "2c5ea129",
   "metadata": {},
   "source": [
    "# КОММЕНТАРИЙ РЕВЬЮВЕРА\n",
    "Привет Максим 👋!)\n",
    "\n",
    "Меня зовут Сибирев Владислав, я осуществлял проверку проекта. Может перейдем сразу на <b>ты</b>? Если это неприемлемо, то обязательно дай знать)\n",
    "\n",
    "Далее по ходу работы ты сможешь встретить мои комментарии, они будут отмечены разными цветами:\n",
    "\n",
    "<div class=\"alert alert-block alert-success\">\n",
    " ✔️ Похвала и возможности развития\n",
    "</div>\n",
    "<div class=\"alert alert-block alert-warning\">\n",
    "⚠️ Некритичные замечания, но стоит обратить внимание\n",
    "</div>\n",
    "<div class=\"alert alert-block alert-danger\">\n",
    "❌ Грубая ошибка, необходимо исправить\n",
    "</div>\n",
    "\n",
    "\n",
    "Заранее прошу не удалять мои комментарии, это важно. Если у тебя возникнут вопросы, обозначь их, я с радостью тебе помогу!)\n",
    "\n",
    "Как вариант, можешь обозначить их так:\n",
    "<div class=\"alert alert-block alert-info\">\n",
    "<b>КОММЕНТАРИЙ СТУДЕНТА:</b>\n",
    "</div>"
   ]
  },
  {
   "cell_type": "markdown",
   "id": "386f2ae7",
   "metadata": {
    "deletable": false,
    "editable": false,
    "id": "386f2ae7"
   },
   "source": [
    "# Исследование надежности заемщиков\n"
   ]
  },
  {
   "cell_type": "markdown",
   "id": "ffe86f65",
   "metadata": {
    "deletable": false,
    "editable": false,
    "id": "ffe86f65"
   },
   "source": [
    "Во второй части проекта вы выполните шаги 3 и 4. Их вручную проверит ревьюер.\n",
    "Чтобы вам не пришлось писать код заново для шагов 1 и 2, мы добавили авторские решения в ячейки с кодом. \n",
    "\n"
   ]
  },
  {
   "cell_type": "markdown",
   "id": "26613308",
   "metadata": {
    "deletable": false,
    "editable": false,
    "id": "26613308"
   },
   "source": [
    "## Откройте таблицу и изучите общую информацию о данных"
   ]
  },
  {
   "cell_type": "markdown",
   "id": "3c9f838e",
   "metadata": {
    "deletable": false,
    "editable": false,
    "id": "3c9f838e"
   },
   "source": [
    "**Задание 1. Импортируйте библиотеку pandas. Считайте данные из csv-файла в датафрейм и сохраните в переменную `data`. Путь к файлу:**\n",
    "\n",
    "`/datasets/data.csv`"
   ]
  },
  {
   "cell_type": "code",
   "execution_count": 4,
   "id": "77a68a90",
   "metadata": {
    "deletable": false,
    "id": "77a68a90"
   },
   "outputs": [],
   "source": [
    "import pandas as pd\n",
    "\n",
    "try:\n",
    "    data = pd.read_csv('/datasets/data.csv')\n",
    "except:\n",
    "    data = pd.read_csv('https://code.s3.yandex.net/datasets/data.csv')"
   ]
  },
  {
   "cell_type": "markdown",
   "id": "45365635",
   "metadata": {
    "deletable": false,
    "editable": false,
    "id": "45365635"
   },
   "source": [
    "**Задание 2. Выведите первые 20 строчек датафрейма `data` на экран.**"
   ]
  },
  {
   "cell_type": "code",
   "execution_count": 5,
   "id": "b0451a9a",
   "metadata": {
    "deletable": false,
    "id": "b0451a9a",
    "outputId": "1a8f3ef2-d323-4ec2-ddf7-89670b5944c4"
   },
   "outputs": [
    {
     "data": {
      "text/html": [
       "<div>\n",
       "<style scoped>\n",
       "    .dataframe tbody tr th:only-of-type {\n",
       "        vertical-align: middle;\n",
       "    }\n",
       "\n",
       "    .dataframe tbody tr th {\n",
       "        vertical-align: top;\n",
       "    }\n",
       "\n",
       "    .dataframe thead th {\n",
       "        text-align: right;\n",
       "    }\n",
       "</style>\n",
       "<table border=\"1\" class=\"dataframe\">\n",
       "  <thead>\n",
       "    <tr style=\"text-align: right;\">\n",
       "      <th></th>\n",
       "      <th>children</th>\n",
       "      <th>days_employed</th>\n",
       "      <th>dob_years</th>\n",
       "      <th>education</th>\n",
       "      <th>education_id</th>\n",
       "      <th>family_status</th>\n",
       "      <th>family_status_id</th>\n",
       "      <th>gender</th>\n",
       "      <th>income_type</th>\n",
       "      <th>debt</th>\n",
       "      <th>total_income</th>\n",
       "      <th>purpose</th>\n",
       "    </tr>\n",
       "  </thead>\n",
       "  <tbody>\n",
       "    <tr>\n",
       "      <th>0</th>\n",
       "      <td>1</td>\n",
       "      <td>-8437.673028</td>\n",
       "      <td>42</td>\n",
       "      <td>высшее</td>\n",
       "      <td>0</td>\n",
       "      <td>женат / замужем</td>\n",
       "      <td>0</td>\n",
       "      <td>F</td>\n",
       "      <td>сотрудник</td>\n",
       "      <td>0</td>\n",
       "      <td>253875.639453</td>\n",
       "      <td>покупка жилья</td>\n",
       "    </tr>\n",
       "    <tr>\n",
       "      <th>1</th>\n",
       "      <td>1</td>\n",
       "      <td>-4024.803754</td>\n",
       "      <td>36</td>\n",
       "      <td>среднее</td>\n",
       "      <td>1</td>\n",
       "      <td>женат / замужем</td>\n",
       "      <td>0</td>\n",
       "      <td>F</td>\n",
       "      <td>сотрудник</td>\n",
       "      <td>0</td>\n",
       "      <td>112080.014102</td>\n",
       "      <td>приобретение автомобиля</td>\n",
       "    </tr>\n",
       "    <tr>\n",
       "      <th>2</th>\n",
       "      <td>0</td>\n",
       "      <td>-5623.422610</td>\n",
       "      <td>33</td>\n",
       "      <td>Среднее</td>\n",
       "      <td>1</td>\n",
       "      <td>женат / замужем</td>\n",
       "      <td>0</td>\n",
       "      <td>M</td>\n",
       "      <td>сотрудник</td>\n",
       "      <td>0</td>\n",
       "      <td>145885.952297</td>\n",
       "      <td>покупка жилья</td>\n",
       "    </tr>\n",
       "    <tr>\n",
       "      <th>3</th>\n",
       "      <td>3</td>\n",
       "      <td>-4124.747207</td>\n",
       "      <td>32</td>\n",
       "      <td>среднее</td>\n",
       "      <td>1</td>\n",
       "      <td>женат / замужем</td>\n",
       "      <td>0</td>\n",
       "      <td>M</td>\n",
       "      <td>сотрудник</td>\n",
       "      <td>0</td>\n",
       "      <td>267628.550329</td>\n",
       "      <td>дополнительное образование</td>\n",
       "    </tr>\n",
       "    <tr>\n",
       "      <th>4</th>\n",
       "      <td>0</td>\n",
       "      <td>340266.072047</td>\n",
       "      <td>53</td>\n",
       "      <td>среднее</td>\n",
       "      <td>1</td>\n",
       "      <td>гражданский брак</td>\n",
       "      <td>1</td>\n",
       "      <td>F</td>\n",
       "      <td>пенсионер</td>\n",
       "      <td>0</td>\n",
       "      <td>158616.077870</td>\n",
       "      <td>сыграть свадьбу</td>\n",
       "    </tr>\n",
       "    <tr>\n",
       "      <th>5</th>\n",
       "      <td>0</td>\n",
       "      <td>-926.185831</td>\n",
       "      <td>27</td>\n",
       "      <td>высшее</td>\n",
       "      <td>0</td>\n",
       "      <td>гражданский брак</td>\n",
       "      <td>1</td>\n",
       "      <td>M</td>\n",
       "      <td>компаньон</td>\n",
       "      <td>0</td>\n",
       "      <td>255763.565419</td>\n",
       "      <td>покупка жилья</td>\n",
       "    </tr>\n",
       "    <tr>\n",
       "      <th>6</th>\n",
       "      <td>0</td>\n",
       "      <td>-2879.202052</td>\n",
       "      <td>43</td>\n",
       "      <td>высшее</td>\n",
       "      <td>0</td>\n",
       "      <td>женат / замужем</td>\n",
       "      <td>0</td>\n",
       "      <td>F</td>\n",
       "      <td>компаньон</td>\n",
       "      <td>0</td>\n",
       "      <td>240525.971920</td>\n",
       "      <td>операции с жильем</td>\n",
       "    </tr>\n",
       "    <tr>\n",
       "      <th>7</th>\n",
       "      <td>0</td>\n",
       "      <td>-152.779569</td>\n",
       "      <td>50</td>\n",
       "      <td>СРЕДНЕЕ</td>\n",
       "      <td>1</td>\n",
       "      <td>женат / замужем</td>\n",
       "      <td>0</td>\n",
       "      <td>M</td>\n",
       "      <td>сотрудник</td>\n",
       "      <td>0</td>\n",
       "      <td>135823.934197</td>\n",
       "      <td>образование</td>\n",
       "    </tr>\n",
       "    <tr>\n",
       "      <th>8</th>\n",
       "      <td>2</td>\n",
       "      <td>-6929.865299</td>\n",
       "      <td>35</td>\n",
       "      <td>ВЫСШЕЕ</td>\n",
       "      <td>0</td>\n",
       "      <td>гражданский брак</td>\n",
       "      <td>1</td>\n",
       "      <td>F</td>\n",
       "      <td>сотрудник</td>\n",
       "      <td>0</td>\n",
       "      <td>95856.832424</td>\n",
       "      <td>на проведение свадьбы</td>\n",
       "    </tr>\n",
       "    <tr>\n",
       "      <th>9</th>\n",
       "      <td>0</td>\n",
       "      <td>-2188.756445</td>\n",
       "      <td>41</td>\n",
       "      <td>среднее</td>\n",
       "      <td>1</td>\n",
       "      <td>женат / замужем</td>\n",
       "      <td>0</td>\n",
       "      <td>M</td>\n",
       "      <td>сотрудник</td>\n",
       "      <td>0</td>\n",
       "      <td>144425.938277</td>\n",
       "      <td>покупка жилья для семьи</td>\n",
       "    </tr>\n",
       "    <tr>\n",
       "      <th>10</th>\n",
       "      <td>2</td>\n",
       "      <td>-4171.483647</td>\n",
       "      <td>36</td>\n",
       "      <td>высшее</td>\n",
       "      <td>0</td>\n",
       "      <td>женат / замужем</td>\n",
       "      <td>0</td>\n",
       "      <td>M</td>\n",
       "      <td>компаньон</td>\n",
       "      <td>0</td>\n",
       "      <td>113943.491460</td>\n",
       "      <td>покупка недвижимости</td>\n",
       "    </tr>\n",
       "    <tr>\n",
       "      <th>11</th>\n",
       "      <td>0</td>\n",
       "      <td>-792.701887</td>\n",
       "      <td>40</td>\n",
       "      <td>среднее</td>\n",
       "      <td>1</td>\n",
       "      <td>женат / замужем</td>\n",
       "      <td>0</td>\n",
       "      <td>F</td>\n",
       "      <td>сотрудник</td>\n",
       "      <td>0</td>\n",
       "      <td>77069.234271</td>\n",
       "      <td>покупка коммерческой недвижимости</td>\n",
       "    </tr>\n",
       "    <tr>\n",
       "      <th>12</th>\n",
       "      <td>0</td>\n",
       "      <td>NaN</td>\n",
       "      <td>65</td>\n",
       "      <td>среднее</td>\n",
       "      <td>1</td>\n",
       "      <td>гражданский брак</td>\n",
       "      <td>1</td>\n",
       "      <td>M</td>\n",
       "      <td>пенсионер</td>\n",
       "      <td>0</td>\n",
       "      <td>NaN</td>\n",
       "      <td>сыграть свадьбу</td>\n",
       "    </tr>\n",
       "    <tr>\n",
       "      <th>13</th>\n",
       "      <td>0</td>\n",
       "      <td>-1846.641941</td>\n",
       "      <td>54</td>\n",
       "      <td>неоконченное высшее</td>\n",
       "      <td>2</td>\n",
       "      <td>женат / замужем</td>\n",
       "      <td>0</td>\n",
       "      <td>F</td>\n",
       "      <td>сотрудник</td>\n",
       "      <td>0</td>\n",
       "      <td>130458.228857</td>\n",
       "      <td>приобретение автомобиля</td>\n",
       "    </tr>\n",
       "    <tr>\n",
       "      <th>14</th>\n",
       "      <td>0</td>\n",
       "      <td>-1844.956182</td>\n",
       "      <td>56</td>\n",
       "      <td>высшее</td>\n",
       "      <td>0</td>\n",
       "      <td>гражданский брак</td>\n",
       "      <td>1</td>\n",
       "      <td>F</td>\n",
       "      <td>компаньон</td>\n",
       "      <td>1</td>\n",
       "      <td>165127.911772</td>\n",
       "      <td>покупка жилой недвижимости</td>\n",
       "    </tr>\n",
       "    <tr>\n",
       "      <th>15</th>\n",
       "      <td>1</td>\n",
       "      <td>-972.364419</td>\n",
       "      <td>26</td>\n",
       "      <td>среднее</td>\n",
       "      <td>1</td>\n",
       "      <td>женат / замужем</td>\n",
       "      <td>0</td>\n",
       "      <td>F</td>\n",
       "      <td>сотрудник</td>\n",
       "      <td>0</td>\n",
       "      <td>116820.904450</td>\n",
       "      <td>строительство собственной недвижимости</td>\n",
       "    </tr>\n",
       "    <tr>\n",
       "      <th>16</th>\n",
       "      <td>0</td>\n",
       "      <td>-1719.934226</td>\n",
       "      <td>35</td>\n",
       "      <td>среднее</td>\n",
       "      <td>1</td>\n",
       "      <td>женат / замужем</td>\n",
       "      <td>0</td>\n",
       "      <td>F</td>\n",
       "      <td>сотрудник</td>\n",
       "      <td>0</td>\n",
       "      <td>289202.704229</td>\n",
       "      <td>недвижимость</td>\n",
       "    </tr>\n",
       "    <tr>\n",
       "      <th>17</th>\n",
       "      <td>0</td>\n",
       "      <td>-2369.999720</td>\n",
       "      <td>33</td>\n",
       "      <td>высшее</td>\n",
       "      <td>0</td>\n",
       "      <td>гражданский брак</td>\n",
       "      <td>1</td>\n",
       "      <td>M</td>\n",
       "      <td>сотрудник</td>\n",
       "      <td>0</td>\n",
       "      <td>90410.586745</td>\n",
       "      <td>строительство недвижимости</td>\n",
       "    </tr>\n",
       "    <tr>\n",
       "      <th>18</th>\n",
       "      <td>0</td>\n",
       "      <td>400281.136913</td>\n",
       "      <td>53</td>\n",
       "      <td>среднее</td>\n",
       "      <td>1</td>\n",
       "      <td>вдовец / вдова</td>\n",
       "      <td>2</td>\n",
       "      <td>F</td>\n",
       "      <td>пенсионер</td>\n",
       "      <td>0</td>\n",
       "      <td>56823.777243</td>\n",
       "      <td>на покупку подержанного автомобиля</td>\n",
       "    </tr>\n",
       "    <tr>\n",
       "      <th>19</th>\n",
       "      <td>0</td>\n",
       "      <td>-10038.818549</td>\n",
       "      <td>48</td>\n",
       "      <td>СРЕДНЕЕ</td>\n",
       "      <td>1</td>\n",
       "      <td>в разводе</td>\n",
       "      <td>3</td>\n",
       "      <td>F</td>\n",
       "      <td>сотрудник</td>\n",
       "      <td>0</td>\n",
       "      <td>242831.107982</td>\n",
       "      <td>на покупку своего автомобиля</td>\n",
       "    </tr>\n",
       "  </tbody>\n",
       "</table>\n",
       "</div>"
      ],
      "text/plain": [
       "    children  days_employed  dob_years            education  education_id  \\\n",
       "0          1   -8437.673028         42               высшее             0   \n",
       "1          1   -4024.803754         36              среднее             1   \n",
       "2          0   -5623.422610         33              Среднее             1   \n",
       "3          3   -4124.747207         32              среднее             1   \n",
       "4          0  340266.072047         53              среднее             1   \n",
       "5          0    -926.185831         27               высшее             0   \n",
       "6          0   -2879.202052         43               высшее             0   \n",
       "7          0    -152.779569         50              СРЕДНЕЕ             1   \n",
       "8          2   -6929.865299         35               ВЫСШЕЕ             0   \n",
       "9          0   -2188.756445         41              среднее             1   \n",
       "10         2   -4171.483647         36               высшее             0   \n",
       "11         0    -792.701887         40              среднее             1   \n",
       "12         0            NaN         65              среднее             1   \n",
       "13         0   -1846.641941         54  неоконченное высшее             2   \n",
       "14         0   -1844.956182         56               высшее             0   \n",
       "15         1    -972.364419         26              среднее             1   \n",
       "16         0   -1719.934226         35              среднее             1   \n",
       "17         0   -2369.999720         33               высшее             0   \n",
       "18         0  400281.136913         53              среднее             1   \n",
       "19         0  -10038.818549         48              СРЕДНЕЕ             1   \n",
       "\n",
       "       family_status  family_status_id gender income_type  debt  \\\n",
       "0    женат / замужем                 0      F   сотрудник     0   \n",
       "1    женат / замужем                 0      F   сотрудник     0   \n",
       "2    женат / замужем                 0      M   сотрудник     0   \n",
       "3    женат / замужем                 0      M   сотрудник     0   \n",
       "4   гражданский брак                 1      F   пенсионер     0   \n",
       "5   гражданский брак                 1      M   компаньон     0   \n",
       "6    женат / замужем                 0      F   компаньон     0   \n",
       "7    женат / замужем                 0      M   сотрудник     0   \n",
       "8   гражданский брак                 1      F   сотрудник     0   \n",
       "9    женат / замужем                 0      M   сотрудник     0   \n",
       "10   женат / замужем                 0      M   компаньон     0   \n",
       "11   женат / замужем                 0      F   сотрудник     0   \n",
       "12  гражданский брак                 1      M   пенсионер     0   \n",
       "13   женат / замужем                 0      F   сотрудник     0   \n",
       "14  гражданский брак                 1      F   компаньон     1   \n",
       "15   женат / замужем                 0      F   сотрудник     0   \n",
       "16   женат / замужем                 0      F   сотрудник     0   \n",
       "17  гражданский брак                 1      M   сотрудник     0   \n",
       "18    вдовец / вдова                 2      F   пенсионер     0   \n",
       "19         в разводе                 3      F   сотрудник     0   \n",
       "\n",
       "     total_income                                 purpose  \n",
       "0   253875.639453                           покупка жилья  \n",
       "1   112080.014102                 приобретение автомобиля  \n",
       "2   145885.952297                           покупка жилья  \n",
       "3   267628.550329              дополнительное образование  \n",
       "4   158616.077870                         сыграть свадьбу  \n",
       "5   255763.565419                           покупка жилья  \n",
       "6   240525.971920                       операции с жильем  \n",
       "7   135823.934197                             образование  \n",
       "8    95856.832424                   на проведение свадьбы  \n",
       "9   144425.938277                 покупка жилья для семьи  \n",
       "10  113943.491460                    покупка недвижимости  \n",
       "11   77069.234271       покупка коммерческой недвижимости  \n",
       "12            NaN                         сыграть свадьбу  \n",
       "13  130458.228857                 приобретение автомобиля  \n",
       "14  165127.911772              покупка жилой недвижимости  \n",
       "15  116820.904450  строительство собственной недвижимости  \n",
       "16  289202.704229                            недвижимость  \n",
       "17   90410.586745              строительство недвижимости  \n",
       "18   56823.777243      на покупку подержанного автомобиля  \n",
       "19  242831.107982            на покупку своего автомобиля  "
      ]
     },
     "execution_count": 5,
     "metadata": {},
     "output_type": "execute_result"
    }
   ],
   "source": [
    "data.head(20)"
   ]
  },
  {
   "cell_type": "markdown",
   "id": "0ed8f27f",
   "metadata": {
    "deletable": false,
    "editable": false,
    "id": "0ed8f27f"
   },
   "source": [
    "**Задание 3. Выведите основную информацию о датафрейме с помощью метода `info()`.**"
   ]
  },
  {
   "cell_type": "code",
   "execution_count": 6,
   "id": "ab3f863b",
   "metadata": {
    "deletable": false,
    "id": "ab3f863b",
    "outputId": "15376089-8dad-46c9-b520-c05248d43158"
   },
   "outputs": [
    {
     "name": "stdout",
     "output_type": "stream",
     "text": [
      "<class 'pandas.core.frame.DataFrame'>\n",
      "RangeIndex: 21525 entries, 0 to 21524\n",
      "Data columns (total 12 columns):\n",
      " #   Column            Non-Null Count  Dtype  \n",
      "---  ------            --------------  -----  \n",
      " 0   children          21525 non-null  int64  \n",
      " 1   days_employed     19351 non-null  float64\n",
      " 2   dob_years         21525 non-null  int64  \n",
      " 3   education         21525 non-null  object \n",
      " 4   education_id      21525 non-null  int64  \n",
      " 5   family_status     21525 non-null  object \n",
      " 6   family_status_id  21525 non-null  int64  \n",
      " 7   gender            21525 non-null  object \n",
      " 8   income_type       21525 non-null  object \n",
      " 9   debt              21525 non-null  int64  \n",
      " 10  total_income      19351 non-null  float64\n",
      " 11  purpose           21525 non-null  object \n",
      "dtypes: float64(2), int64(5), object(5)\n",
      "memory usage: 2.0+ MB\n"
     ]
    }
   ],
   "source": [
    "data.info()"
   ]
  },
  {
   "cell_type": "markdown",
   "id": "60e3e22d",
   "metadata": {
    "deletable": false,
    "editable": false,
    "id": "60e3e22d"
   },
   "source": [
    "## Предобработка данных"
   ]
  },
  {
   "cell_type": "markdown",
   "id": "03dc170c",
   "metadata": {
    "deletable": false,
    "editable": false,
    "id": "03dc170c"
   },
   "source": [
    "### Удаление пропусков"
   ]
  },
  {
   "cell_type": "markdown",
   "id": "a4f54eef",
   "metadata": {
    "deletable": false,
    "editable": false,
    "id": "a4f54eef"
   },
   "source": [
    "**Задание 4. Выведите количество пропущенных значений для каждого столбца. Используйте комбинацию двух методов.**"
   ]
  },
  {
   "cell_type": "code",
   "execution_count": 7,
   "id": "2dc372b2",
   "metadata": {
    "deletable": false,
    "id": "2dc372b2",
    "outputId": "81f4d817-781c-465c-ed15-91ce4446810d"
   },
   "outputs": [
    {
     "data": {
      "text/plain": [
       "children               0\n",
       "days_employed       2174\n",
       "dob_years              0\n",
       "education              0\n",
       "education_id           0\n",
       "family_status          0\n",
       "family_status_id       0\n",
       "gender                 0\n",
       "income_type            0\n",
       "debt                   0\n",
       "total_income        2174\n",
       "purpose                0\n",
       "dtype: int64"
      ]
     },
     "execution_count": 7,
     "metadata": {},
     "output_type": "execute_result"
    }
   ],
   "source": [
    "data.isna().sum()"
   ]
  },
  {
   "cell_type": "markdown",
   "id": "14f011b1",
   "metadata": {
    "deletable": false,
    "editable": false,
    "id": "14f011b1"
   },
   "source": [
    "**Задание 5. В двух столбцах есть пропущенные значения. Один из них — `days_employed`. Пропуски в этом столбце вы обработаете на следующем этапе. Другой столбец с пропущенными значениями — `total_income` — хранит данные о доходах. На сумму дохода сильнее всего влияет тип занятости, поэтому заполнить пропуски в этом столбце нужно медианным значением по каждому типу из столбца `income_type`. Например, у человека с типом занятости `сотрудник` пропуск в столбце `total_income` должен быть заполнен медианным доходом среди всех записей с тем же типом.**"
   ]
  },
  {
   "cell_type": "code",
   "execution_count": 8,
   "id": "bdabfb6e",
   "metadata": {
    "deletable": false,
    "id": "bdabfb6e"
   },
   "outputs": [],
   "source": [
    "for t in data['income_type'].unique():\n",
    "    data.loc[(data['income_type'] == t) & (data['total_income'].isna()), 'total_income'] = \\\n",
    "    data.loc[(data['income_type'] == t), 'total_income'].median()"
   ]
  },
  {
   "cell_type": "markdown",
   "id": "5be34059",
   "metadata": {
    "deletable": false,
    "editable": false,
    "id": "5be34059"
   },
   "source": [
    "### Обработка аномальных значений"
   ]
  },
  {
   "cell_type": "markdown",
   "id": "a87606cb",
   "metadata": {
    "deletable": false,
    "editable": false,
    "id": "a87606cb"
   },
   "source": [
    "**Задание 6. В данных могут встречаться артефакты (аномалии) — значения, которые не отражают действительность и появились по какой-то ошибке. таким артефактом будет отрицательное количество дней трудового стажа в столбце `days_employed`. Для реальных данных это нормально. Обработайте значения в этом столбце: замените все отрицательные значения положительными с помощью метода `abs()`.**"
   ]
  },
  {
   "cell_type": "code",
   "execution_count": 9,
   "id": "020c46cc",
   "metadata": {
    "deletable": false,
    "id": "020c46cc"
   },
   "outputs": [],
   "source": [
    "data['days_employed'] = data['days_employed'].abs()"
   ]
  },
  {
   "cell_type": "markdown",
   "id": "45538a3a",
   "metadata": {
    "deletable": false,
    "editable": false,
    "id": "45538a3a"
   },
   "source": [
    "**Задание 7. Для каждого типа занятости выведите медианное значение трудового стажа `days_employed` в днях.**"
   ]
  },
  {
   "cell_type": "code",
   "execution_count": 10,
   "id": "cd3e6328",
   "metadata": {
    "deletable": false,
    "id": "cd3e6328",
    "outputId": "801ef80e-522b-4668-f34e-565af7432bcf"
   },
   "outputs": [
    {
     "data": {
      "text/plain": [
       "income_type\n",
       "безработный        366413.652744\n",
       "в декрете            3296.759962\n",
       "госслужащий          2689.368353\n",
       "компаньон            1547.382223\n",
       "пенсионер          365213.306266\n",
       "предприниматель       520.848083\n",
       "сотрудник            1574.202821\n",
       "студент               578.751554\n",
       "Name: days_employed, dtype: float64"
      ]
     },
     "execution_count": 10,
     "metadata": {},
     "output_type": "execute_result"
    }
   ],
   "source": [
    "data.groupby('income_type')['days_employed'].agg('median')"
   ]
  },
  {
   "cell_type": "markdown",
   "id": "90c5f058",
   "metadata": {
    "deletable": false,
    "editable": false,
    "id": "90c5f058"
   },
   "source": [
    "У двух типов (безработные и пенсионеры) получатся аномально большие значения. Исправить такие значения сложно, поэтому оставьте их как есть."
   ]
  },
  {
   "cell_type": "markdown",
   "id": "9652e50d",
   "metadata": {
    "deletable": false,
    "editable": false,
    "id": "9652e50d"
   },
   "source": [
    "**Задание 8. Выведите перечень уникальных значений столбца `children`.**"
   ]
  },
  {
   "cell_type": "code",
   "execution_count": 11,
   "id": "dbb37b8e",
   "metadata": {
    "deletable": false,
    "id": "dbb37b8e",
    "outputId": "6975b15c-7f95-4697-d16d-a0c79b657b03"
   },
   "outputs": [
    {
     "data": {
      "text/plain": [
       "array([ 1,  0,  3,  2, -1,  4, 20,  5])"
      ]
     },
     "execution_count": 11,
     "metadata": {},
     "output_type": "execute_result"
    }
   ],
   "source": [
    "data['children'].unique()"
   ]
  },
  {
   "cell_type": "markdown",
   "id": "2b8b0715",
   "metadata": {
    "deletable": false,
    "editable": false,
    "id": "2b8b0715"
   },
   "source": [
    "**Задание 9. В столбце `children` есть два аномальных значения. Удалите строки, в которых встречаются такие аномальные значения из датафрейма `data`.**"
   ]
  },
  {
   "cell_type": "code",
   "execution_count": 12,
   "id": "20009df8",
   "metadata": {
    "deletable": false,
    "id": "20009df8"
   },
   "outputs": [],
   "source": [
    "data = data[(data['children'] != -1) & (data['children'] != 20)]"
   ]
  },
  {
   "cell_type": "markdown",
   "id": "8c6ac9f1",
   "metadata": {
    "deletable": false,
    "editable": false,
    "id": "8c6ac9f1"
   },
   "source": [
    "**Задание 10. Ещё раз выведите перечень уникальных значений столбца `children`, чтобы убедиться, что артефакты удалены.**"
   ]
  },
  {
   "cell_type": "code",
   "execution_count": 13,
   "id": "07337b81",
   "metadata": {
    "deletable": false,
    "id": "07337b81",
    "outputId": "b2097101-d49d-44d9-901b-32a65c9463d1"
   },
   "outputs": [
    {
     "data": {
      "text/plain": [
       "array([1, 0, 3, 2, 4, 5])"
      ]
     },
     "execution_count": 13,
     "metadata": {},
     "output_type": "execute_result"
    }
   ],
   "source": [
    "data['children'].unique()"
   ]
  },
  {
   "cell_type": "markdown",
   "id": "ee3f52d4",
   "metadata": {
    "deletable": false,
    "editable": false,
    "id": "ee3f52d4"
   },
   "source": [
    "### Удаление пропусков (продолжение)"
   ]
  },
  {
   "cell_type": "markdown",
   "id": "a700b0e4",
   "metadata": {
    "deletable": false,
    "editable": false,
    "id": "a700b0e4"
   },
   "source": [
    "**Задание 11. Заполните пропуски в столбце `days_employed` медианными значениями по каждого типа занятости `income_type`.**"
   ]
  },
  {
   "cell_type": "code",
   "execution_count": 14,
   "id": "61946b83",
   "metadata": {
    "deletable": false,
    "id": "61946b83"
   },
   "outputs": [],
   "source": [
    "for t in data['income_type'].unique():\n",
    "    data.loc[(data['income_type'] == t) & (data['days_employed'].isna()), 'days_employed'] = \\\n",
    "    data.loc[(data['income_type'] == t), 'days_employed'].median()"
   ]
  },
  {
   "cell_type": "markdown",
   "id": "550dcd9b",
   "metadata": {
    "deletable": false,
    "editable": false,
    "id": "550dcd9b"
   },
   "source": [
    "**Задание 12. Убедитесь, что все пропуски заполнены. Проверьте себя и ещё раз выведите количество пропущенных значений для каждого столбца с помощью двух методов.**"
   ]
  },
  {
   "cell_type": "code",
   "execution_count": 15,
   "id": "937c7014",
   "metadata": {
    "deletable": false,
    "id": "937c7014",
    "outputId": "8da1e4e1-358e-4e87-98c9-f261bce0a7b2"
   },
   "outputs": [
    {
     "data": {
      "text/plain": [
       "children            0\n",
       "days_employed       0\n",
       "dob_years           0\n",
       "education           0\n",
       "education_id        0\n",
       "family_status       0\n",
       "family_status_id    0\n",
       "gender              0\n",
       "income_type         0\n",
       "debt                0\n",
       "total_income        0\n",
       "purpose             0\n",
       "dtype: int64"
      ]
     },
     "execution_count": 15,
     "metadata": {},
     "output_type": "execute_result"
    }
   ],
   "source": [
    "data.isna().sum()"
   ]
  },
  {
   "cell_type": "markdown",
   "id": "d522e295",
   "metadata": {
    "deletable": false,
    "editable": false,
    "id": "d522e295"
   },
   "source": [
    "### Изменение типов данных"
   ]
  },
  {
   "cell_type": "markdown",
   "id": "c229c581",
   "metadata": {
    "deletable": false,
    "editable": false,
    "id": "c229c581"
   },
   "source": [
    "**Задание 13. Замените вещественный тип данных в столбце `total_income` на целочисленный с помощью метода `astype()`.**"
   ]
  },
  {
   "cell_type": "code",
   "execution_count": 16,
   "id": "31036462",
   "metadata": {
    "deletable": false,
    "id": "31036462"
   },
   "outputs": [],
   "source": [
    "data['total_income'] = data['total_income'].astype(int)"
   ]
  },
  {
   "cell_type": "markdown",
   "id": "b8e3d1d9",
   "metadata": {
    "deletable": false,
    "editable": false,
    "id": "b8e3d1d9"
   },
   "source": [
    "### Обработка дубликатов"
   ]
  },
  {
   "cell_type": "markdown",
   "id": "9be53c49",
   "metadata": {
    "deletable": false,
    "editable": false,
    "id": "9be53c49"
   },
   "source": [
    "**Задание 14. Обработайте неявные дубликаты в столбце `education`. В этом столбце есть одни и те же значения, но записанные по-разному: с использованием заглавных и строчных букв. Приведите их к нижнему регистру.**"
   ]
  },
  {
   "cell_type": "code",
   "execution_count": 17,
   "id": "d89e73e1",
   "metadata": {
    "deletable": false,
    "id": "d89e73e1"
   },
   "outputs": [],
   "source": [
    "data['education'] = data['education'].str.lower()"
   ]
  },
  {
   "cell_type": "markdown",
   "id": "01d4500e",
   "metadata": {
    "deletable": false,
    "editable": false,
    "id": "01d4500e"
   },
   "source": [
    "**Задание 15. Выведите на экран количество строк-дубликатов в данных. Если такие строки присутствуют, удалите их.**"
   ]
  },
  {
   "cell_type": "code",
   "execution_count": 18,
   "id": "e10efb23",
   "metadata": {
    "deletable": false,
    "id": "e10efb23",
    "outputId": "9684deba-1934-42d1-99e1-cda61740f822"
   },
   "outputs": [
    {
     "data": {
      "text/plain": [
       "71"
      ]
     },
     "execution_count": 18,
     "metadata": {},
     "output_type": "execute_result"
    }
   ],
   "source": [
    "data.duplicated().sum()"
   ]
  },
  {
   "cell_type": "code",
   "execution_count": 19,
   "id": "df853f20",
   "metadata": {
    "deletable": false,
    "id": "df853f20"
   },
   "outputs": [],
   "source": [
    "data = data.drop_duplicates()"
   ]
  },
  {
   "cell_type": "markdown",
   "id": "627be38f",
   "metadata": {
    "deletable": false,
    "editable": false,
    "id": "627be38f"
   },
   "source": [
    "### Категоризация данных"
   ]
  },
  {
   "cell_type": "markdown",
   "id": "4684c3e0",
   "metadata": {
    "deletable": false,
    "editable": false,
    "id": "4684c3e0"
   },
   "source": [
    "**Задание 16. На основании диапазонов, указанных ниже, создайте в датафрейме `data` столбец `total_income_category` с категориями:**\n",
    "\n",
    "- 0–30000 — `'E'`;\n",
    "- 30001–50000 — `'D'`;\n",
    "- 50001–200000 — `'C'`;\n",
    "- 200001–1000000 — `'B'`;\n",
    "- 1000001 и выше — `'A'`.\n",
    "\n",
    "\n",
    "**Например, кредитополучателю с доходом 25000 нужно назначить категорию `'E'`, а клиенту, получающему 235000, — `'B'`. Используйте собственную функцию с именем `categorize_income()` и метод `apply()`.**"
   ]
  },
  {
   "cell_type": "code",
   "execution_count": 20,
   "id": "78965238",
   "metadata": {
    "deletable": false,
    "id": "78965238"
   },
   "outputs": [],
   "source": [
    "def categorize_income(income):\n",
    "    try:\n",
    "        if 0 <= income <= 30000:\n",
    "            return 'E'\n",
    "        elif 30001 <= income <= 50000:\n",
    "            return 'D'\n",
    "        elif 50001 <= income <= 200000:\n",
    "            return 'C'\n",
    "        elif 200001 <= income <= 1000000:\n",
    "            return 'B'\n",
    "        elif income >= 1000001:\n",
    "            return 'A'\n",
    "    except:\n",
    "        pass"
   ]
  },
  {
   "cell_type": "code",
   "execution_count": 21,
   "id": "0980ada1",
   "metadata": {
    "deletable": false,
    "id": "0980ada1"
   },
   "outputs": [],
   "source": [
    "data['total_income_category'] = data['total_income'].apply(categorize_income)"
   ]
  },
  {
   "cell_type": "markdown",
   "id": "9917bba0",
   "metadata": {
    "deletable": false,
    "editable": false,
    "id": "9917bba0"
   },
   "source": [
    "**Задание 17. Выведите на экран перечень уникальных целей взятия кредита из столбца `purpose`.**"
   ]
  },
  {
   "cell_type": "code",
   "execution_count": 22,
   "id": "ee07b65e",
   "metadata": {
    "deletable": false,
    "id": "ee07b65e",
    "outputId": "673c12d9-7d7e-4ae0-9812-c622c89dd244"
   },
   "outputs": [
    {
     "data": {
      "text/plain": [
       "array(['покупка жилья', 'приобретение автомобиля',\n",
       "       'дополнительное образование', 'сыграть свадьбу',\n",
       "       'операции с жильем', 'образование', 'на проведение свадьбы',\n",
       "       'покупка жилья для семьи', 'покупка недвижимости',\n",
       "       'покупка коммерческой недвижимости', 'покупка жилой недвижимости',\n",
       "       'строительство собственной недвижимости', 'недвижимость',\n",
       "       'строительство недвижимости', 'на покупку подержанного автомобиля',\n",
       "       'на покупку своего автомобиля',\n",
       "       'операции с коммерческой недвижимостью',\n",
       "       'строительство жилой недвижимости', 'жилье',\n",
       "       'операции со своей недвижимостью', 'автомобили',\n",
       "       'заняться образованием', 'сделка с подержанным автомобилем',\n",
       "       'получение образования', 'автомобиль', 'свадьба',\n",
       "       'получение дополнительного образования', 'покупка своего жилья',\n",
       "       'операции с недвижимостью', 'получение высшего образования',\n",
       "       'свой автомобиль', 'сделка с автомобилем',\n",
       "       'профильное образование', 'высшее образование',\n",
       "       'покупка жилья для сдачи', 'на покупку автомобиля', 'ремонт жилью',\n",
       "       'заняться высшим образованием'], dtype=object)"
      ]
     },
     "execution_count": 22,
     "metadata": {},
     "output_type": "execute_result"
    }
   ],
   "source": [
    "data['purpose'].unique()"
   ]
  },
  {
   "cell_type": "markdown",
   "id": "52b79d56",
   "metadata": {
    "deletable": false,
    "editable": false,
    "id": "52b79d56"
   },
   "source": [
    "**Задание 18. Создайте функцию, которая на основании данных из столбца `purpose` сформирует новый столбец `purpose_category`, в который войдут следующие категории:**\n",
    "\n",
    "- `'операции с автомобилем'`,\n",
    "- `'операции с недвижимостью'`,\n",
    "- `'проведение свадьбы'`,\n",
    "- `'получение образования'`.\n",
    "\n",
    "**Например, если в столбце `purpose` находится подстрока `'на покупку автомобиля'`, то в столбце `purpose_category` должна появиться строка `'операции с автомобилем'`.**\n",
    "\n",
    "**Используйте собственную функцию с именем `categorize_purpose()` и метод `apply()`. Изучите данные в столбце `purpose` и определите, какие подстроки помогут вам правильно определить категорию.**"
   ]
  },
  {
   "cell_type": "code",
   "execution_count": 23,
   "id": "be41da5d",
   "metadata": {
    "deletable": false,
    "id": "be41da5d"
   },
   "outputs": [],
   "source": [
    "def categorize_purpose(row):\n",
    "    try:\n",
    "        if 'автом' in row:\n",
    "            return 'операции с автомобилем'\n",
    "        elif 'жил' in row or 'недвиж' in row:\n",
    "            return 'операции с недвижимостью'\n",
    "        elif 'свад' in row:\n",
    "            return 'проведение свадьбы'\n",
    "        elif 'образов' in row:\n",
    "            return 'получение образования'\n",
    "    except:\n",
    "        return 'нет категории'"
   ]
  },
  {
   "cell_type": "code",
   "execution_count": 24,
   "id": "94c4a19a",
   "metadata": {
    "deletable": false,
    "id": "94c4a19a"
   },
   "outputs": [],
   "source": [
    "data['purpose_category'] = data['purpose'].apply(categorize_purpose)"
   ]
  },
  {
   "cell_type": "markdown",
   "id": "3d596c34",
   "metadata": {
    "deletable": false,
    "editable": false,
    "id": "3d596c34"
   },
   "source": [
    "### Шаг 3. Исследуйте данные и ответьте на вопросы"
   ]
  },
  {
   "cell_type": "markdown",
   "id": "648db036",
   "metadata": {
    "deletable": false,
    "editable": false,
    "id": "648db036"
   },
   "source": [
    "#### 3.1 Есть ли зависимость между количеством детей и возвратом кредита в срок?"
   ]
  },
  {
   "cell_type": "code",
   "execution_count": 25,
   "id": "7fcff25e",
   "metadata": {
    "deletable": false,
    "id": "7fcff25e",
    "scrolled": true
   },
   "outputs": [
    {
     "data": {
      "text/plain": [
       "children\n",
       "5    0.000000\n",
       "0    7.543822\n",
       "3    8.181818\n",
       "1    9.234609\n",
       "2    9.454191\n",
       "4    9.756098\n",
       "Name: debt, dtype: float64"
      ]
     },
     "execution_count": 25,
     "metadata": {},
     "output_type": "execute_result"
    }
   ],
   "source": [
    "children_set = data.groupby('children')['debt'].sum() / data.groupby('children')['debt'].count() * 100\n",
    "children_set.sort_values()"
   ]
  },
  {
   "cell_type": "code",
   "execution_count": 26,
   "id": "a59c5d33",
   "metadata": {},
   "outputs": [
    {
     "data": {
      "text/plain": [
       "children\n",
       "0    14091\n",
       "1     4808\n",
       "2     2052\n",
       "3      330\n",
       "4       41\n",
       "5        9\n",
       "Name: debt, dtype: int64"
      ]
     },
     "execution_count": 26,
     "metadata": {},
     "output_type": "execute_result"
    }
   ],
   "source": [
    "grouped_children_set = data.groupby('children')['debt'].count()\n",
    "grouped_children_set"
   ]
  },
  {
   "cell_type": "code",
   "execution_count": 27,
   "id": "055308b1",
   "metadata": {},
   "outputs": [],
   "source": [
    "# children_pivot = data.pivot_table(index = ['children'], \\\n",
    "#                                 columns = ['debt'], \\\n",
    "#                                values = 'purpose', aggfunc='count')\n",
    "# children_pivot['ratio'] = children_pivot[1] / children_pivot[0] * 100\n",
    "# children_pivot.sort_values(by='ratio')"
   ]
  },
  {
   "cell_type": "code",
   "execution_count": 1,
   "id": "02287106",
   "metadata": {},
   "outputs": [
    {
     "ename": "NameError",
     "evalue": "name 'data' is not defined",
     "output_type": "error",
     "traceback": [
      "\u001b[0;31m---------------------------------------------------------------------------\u001b[0m",
      "\u001b[0;31mNameError\u001b[0m                                 Traceback (most recent call last)",
      "\u001b[0;32m/tmp/ipykernel_31/1679584565.py\u001b[0m in \u001b[0;36m<module>\u001b[0;34m\u001b[0m\n\u001b[0;32m----> 1\u001b[0;31m \u001b[0mchildren_pivot\u001b[0m \u001b[0;34m=\u001b[0m \u001b[0mdata\u001b[0m\u001b[0;34m.\u001b[0m\u001b[0mpivot_table\u001b[0m\u001b[0;34m(\u001b[0m\u001b[0mindex\u001b[0m \u001b[0;34m=\u001b[0m \u001b[0;34m[\u001b[0m\u001b[0;34m'children'\u001b[0m\u001b[0;34m]\u001b[0m\u001b[0;34m,\u001b[0m \u001b[0mvalues\u001b[0m \u001b[0;34m=\u001b[0m \u001b[0;34m'debt'\u001b[0m\u001b[0;34m,\u001b[0m \u001b[0maggfunc\u001b[0m \u001b[0;34m=\u001b[0m \u001b[0;34m{\u001b[0m\u001b[0;34m'sum'\u001b[0m\u001b[0;34m,\u001b[0m \u001b[0;34m'count'\u001b[0m\u001b[0;34m,\u001b[0m \u001b[0;34m'mean'\u001b[0m\u001b[0;34m}\u001b[0m\u001b[0;34m)\u001b[0m\u001b[0;34m\u001b[0m\u001b[0;34m\u001b[0m\u001b[0m\n\u001b[0m\u001b[1;32m      2\u001b[0m \u001b[0mchildren_pivot\u001b[0m\u001b[0;34m\u001b[0m\u001b[0;34m\u001b[0m\u001b[0m\n",
      "\u001b[0;31mNameError\u001b[0m: name 'data' is not defined"
     ]
    }
   ],
   "source": [
    "children_pivot = data.pivot_table(index = ['children'], values = 'debt', aggfunc = {'sum', 'count', 'mean'})\n",
    "children_pivot"
   ]
  },
  {
   "cell_type": "markdown",
   "id": "1482015a",
   "metadata": {},
   "source": [
    "<div class=\"alert alert-block alert-warning\">\n",
    "<b>Комментарий ревьюер:</b> \n",
    "\n",
    "⚠️ По выводу таблицы все отлично, только мы `ratio` мы получаем не от количество людей кто хорошо отдает, а от общего количества кредиторов)) Можно оптимизировать код следующим образом, но это на твое усмотрение:\n",
    "    \n",
    "    \n",
    "       data_pivot = data.pivot_table(index = ['children'], values = 'debt', aggfunc = {'sum', 'count', 'mean'})\n",
    "   \n",
    "<br>"
   ]
  },
  {
   "cell_type": "markdown",
   "id": "357e03ef",
   "metadata": {},
   "source": [
    "<div class=\"alert alert-block alert-success\">\n",
    "<b>Комментарий ревьюера_V2:</b>\n",
    "\n",
    "✔️  Здесь все отлично стало)) Все замечания исправил)) \n",
    "\n",
    "  </div>"
   ]
  },
  {
   "cell_type": "markdown",
   "id": "2eb9088e",
   "metadata": {
    "deletable": false,
    "id": "2eb9088e"
   },
   "source": [
    "**Вывод:** Есть небольшая зависимость между количеством детей и возвратом кредитов в срок. "
   ]
  },
  {
   "cell_type": "markdown",
   "id": "30b83e1c",
   "metadata": {},
   "source": [
    "<div class=\"alert alert-block alert-warning\">\n",
    "<b>Комментарий ревьюер:</b> \n",
    "\n",
    "⚠️ Не бойся использовать в выводах цифры, также нужно сделать акцент на сбалансированности выборок. Примерно выводы будут выглядеть так: \n",
    "`люди, которые не имеют детей, лучше всего отдают кредит, доля должников здесь составляет с 7,5%, хуже обстоит дело с должниками, кто имеет одного или двух детей, здесь доля невозврата составляет соответственно 9,2% и 9,4%. Остальные категории уже некорректно сравнивать, так как в них очень маленькая выборка`)) <br>"
   ]
  },
  {
   "cell_type": "markdown",
   "id": "aa59283f",
   "metadata": {},
   "source": [
    "<div class=\"alert alert-block alert-info\">\n",
    "<b>Полагаю нет смысла править вывод к этому пункту, так как вы сами его написали. Спасибо за пример.</b>\n",
    "</div>"
   ]
  },
  {
   "cell_type": "markdown",
   "id": "d434e2e8",
   "metadata": {},
   "source": [
    "<div class=\"alert alert-block alert-success\">\n",
    "<b>Комментарий ревьюера_V2:</b>\n",
    "\n",
    "✔️  Хорошо, договорились)\n",
    "\n",
    "  </div>"
   ]
  },
  {
   "cell_type": "markdown",
   "id": "74c9b3a7",
   "metadata": {
    "deletable": false,
    "editable": false,
    "id": "74c9b3a7"
   },
   "source": [
    "#### 3.2 Есть ли зависимость между семейным положением и возвратом кредита в срок?"
   ]
  },
  {
   "cell_type": "code",
   "execution_count": 32,
   "id": "8098ab3b",
   "metadata": {
    "deletable": false,
    "id": "8098ab3b"
   },
   "outputs": [
    {
     "data": {
      "text/plain": [
       "family_status\n",
       "вдовец / вдова           6.624606\n",
       "в разводе                7.064760\n",
       "женат / замужем          7.560558\n",
       "гражданский брак         9.313014\n",
       "Не женат / не замужем    9.763948\n",
       "Name: debt, dtype: float64"
      ]
     },
     "execution_count": 32,
     "metadata": {},
     "output_type": "execute_result"
    }
   ],
   "source": [
    "family_status_set = data.groupby('family_status')['debt'].sum() / data.groupby('family_status')['debt'].count() * 100\n",
    "family_status_set.sort_values()"
   ]
  },
  {
   "cell_type": "code",
   "execution_count": 33,
   "id": "3f262045",
   "metadata": {},
   "outputs": [],
   "source": [
    "#family_status_pivot = data.pivot_table (index = ['family_status'], \\\n",
    " #                                      columns = ['debt'], \\\n",
    " #                                      values = 'family_status_id', aggfunc='count')\n",
    "#family_status_pivot['ratio'] = family_status_pivot[1] / family_status_pivot[0] * 100\n",
    "#family_status_pivot.sort_values(by='ratio')"
   ]
  },
  {
   "cell_type": "code",
   "execution_count": 45,
   "id": "e2bcc738",
   "metadata": {},
   "outputs": [
    {
     "data": {
      "text/html": [
       "<div>\n",
       "<style scoped>\n",
       "    .dataframe tbody tr th:only-of-type {\n",
       "        vertical-align: middle;\n",
       "    }\n",
       "\n",
       "    .dataframe tbody tr th {\n",
       "        vertical-align: top;\n",
       "    }\n",
       "\n",
       "    .dataframe thead th {\n",
       "        text-align: right;\n",
       "    }\n",
       "</style>\n",
       "<table border=\"1\" class=\"dataframe\">\n",
       "  <thead>\n",
       "    <tr style=\"text-align: right;\">\n",
       "      <th></th>\n",
       "      <th>count</th>\n",
       "      <th>mean</th>\n",
       "      <th>sum</th>\n",
       "    </tr>\n",
       "    <tr>\n",
       "      <th>family_status</th>\n",
       "      <th></th>\n",
       "      <th></th>\n",
       "      <th></th>\n",
       "    </tr>\n",
       "  </thead>\n",
       "  <tbody>\n",
       "    <tr>\n",
       "      <th>вдовец / вдова</th>\n",
       "      <td>951.0</td>\n",
       "      <td>0.066246</td>\n",
       "      <td>63.0</td>\n",
       "    </tr>\n",
       "    <tr>\n",
       "      <th>в разводе</th>\n",
       "      <td>1189.0</td>\n",
       "      <td>0.070648</td>\n",
       "      <td>84.0</td>\n",
       "    </tr>\n",
       "    <tr>\n",
       "      <th>женат / замужем</th>\n",
       "      <td>12261.0</td>\n",
       "      <td>0.075606</td>\n",
       "      <td>927.0</td>\n",
       "    </tr>\n",
       "    <tr>\n",
       "      <th>гражданский брак</th>\n",
       "      <td>4134.0</td>\n",
       "      <td>0.093130</td>\n",
       "      <td>385.0</td>\n",
       "    </tr>\n",
       "    <tr>\n",
       "      <th>Не женат / не замужем</th>\n",
       "      <td>2796.0</td>\n",
       "      <td>0.097639</td>\n",
       "      <td>273.0</td>\n",
       "    </tr>\n",
       "  </tbody>\n",
       "</table>\n",
       "</div>"
      ],
      "text/plain": [
       "                         count      mean    sum\n",
       "family_status                                  \n",
       "вдовец / вдова           951.0  0.066246   63.0\n",
       "в разводе               1189.0  0.070648   84.0\n",
       "женат / замужем        12261.0  0.075606  927.0\n",
       "гражданский брак        4134.0  0.093130  385.0\n",
       "Не женат / не замужем   2796.0  0.097639  273.0"
      ]
     },
     "execution_count": 45,
     "metadata": {},
     "output_type": "execute_result"
    }
   ],
   "source": [
    "family_status_pivot = data.pivot_table(index = ['family_status'], values = 'debt', aggfunc = {'sum', 'count', 'mean'})\n",
    "family_status_pivot.sort_values(by='mean')"
   ]
  },
  {
   "cell_type": "markdown",
   "id": "c389ca63",
   "metadata": {
    "deletable": false,
    "id": "c389ca63"
   },
   "source": [
    "**Вывод:** Лучше всего отдают кредит вдовы/вдовцы, люди в разводе и женатые/замужние, доля невозврата составляет 6.6% , 7.0% и 7.5% соответственно. Хуже отдают кредиты должники, находящиеся в гражданском браке и неженатые/незамужние клиенты, доля невозврата составляет 9.3% и 9.7% соответственно."
   ]
  },
  {
   "cell_type": "markdown",
   "id": "a719706e",
   "metadata": {},
   "source": [
    "<div class=\"alert alert-block alert-warning\">\n",
    "<b>Комментарий ревьюер:</b> \n",
    "\n",
    "⚠️ Выводы должны быть детальными) В выводах давай будет использовать цифры, также  удели здесь внимание тоже сбалансированности выборок))"
   ]
  },
  {
   "cell_type": "markdown",
   "id": "ed6efe59",
   "metadata": {},
   "source": [
    "<div class=\"alert alert-block alert-info\">\n",
    "<b>Здесь я так понимаю, не стоит пропускать выборку по вдовам/вдовцам и людям в разводе. Все-таки их не так мало и эти данные имеют роль. Поправьте, пожалуйста, если я не прав.</b>\n",
    "</div>"
   ]
  },
  {
   "cell_type": "markdown",
   "id": "1361515f",
   "metadata": {},
   "source": [
    "<div class=\"alert alert-block alert-success\">\n",
    "<b>Комментарий ревьюера_V2:</b>\n",
    "\n",
    "✔️  В любом случае надо указать, что эта выборка малочислена))\n",
    "\n",
    "  </div>"
   ]
  },
  {
   "cell_type": "markdown",
   "id": "9529de68",
   "metadata": {
    "deletable": false,
    "editable": false,
    "id": "9529de68"
   },
   "source": [
    "#### 3.3 Есть ли зависимость между уровнем дохода и возвратом кредита в срок?"
   ]
  },
  {
   "cell_type": "code",
   "execution_count": 53,
   "id": "8787f44a",
   "metadata": {
    "deletable": false,
    "id": "8787f44a",
    "scrolled": true
   },
   "outputs": [
    {
     "data": {
      "text/plain": [
       "total_income_category\n",
       "E    9.090909\n",
       "C    8.498210\n",
       "A    8.000000\n",
       "B    7.060231\n",
       "D    6.017192\n",
       "Name: debt, dtype: float64"
      ]
     },
     "execution_count": 53,
     "metadata": {},
     "output_type": "execute_result"
    }
   ],
   "source": [
    "\n",
    "total_income_set = data.groupby('total_income_category')['debt'].sum() / \\\n",
    "data.groupby('total_income_category')['debt'].count() * 100\n",
    "total_income_set.sort_values(ascending=False)"
   ]
  },
  {
   "cell_type": "code",
   "execution_count": 54,
   "id": "a48582f4",
   "metadata": {},
   "outputs": [],
   "source": [
    "#total_income_pivot = data.pivot_table(index='total_income_category', \\\n",
    "#                                     columns='debt', \\\n",
    "#                                     values='income_type', aggfunc='count')\n",
    "#total_income_pivot['ratio'] = total_income_pivot[1] / total_income_pivot[0] * 100\n",
    "#total_income_pivot.sort_values(by='ratio', ascending=False)"
   ]
  },
  {
   "cell_type": "code",
   "execution_count": 55,
   "id": "c119b55a",
   "metadata": {},
   "outputs": [
    {
     "data": {
      "text/html": [
       "<div>\n",
       "<style scoped>\n",
       "    .dataframe tbody tr th:only-of-type {\n",
       "        vertical-align: middle;\n",
       "    }\n",
       "\n",
       "    .dataframe tbody tr th {\n",
       "        vertical-align: top;\n",
       "    }\n",
       "\n",
       "    .dataframe thead th {\n",
       "        text-align: right;\n",
       "    }\n",
       "</style>\n",
       "<table border=\"1\" class=\"dataframe\">\n",
       "  <thead>\n",
       "    <tr style=\"text-align: right;\">\n",
       "      <th></th>\n",
       "      <th>count</th>\n",
       "      <th>mean</th>\n",
       "      <th>sum</th>\n",
       "    </tr>\n",
       "    <tr>\n",
       "      <th>total_income_category</th>\n",
       "      <th></th>\n",
       "      <th></th>\n",
       "      <th></th>\n",
       "    </tr>\n",
       "  </thead>\n",
       "  <tbody>\n",
       "    <tr>\n",
       "      <th>C</th>\n",
       "      <td>15921.0</td>\n",
       "      <td>0.084982</td>\n",
       "      <td>1353.0</td>\n",
       "    </tr>\n",
       "    <tr>\n",
       "      <th>B</th>\n",
       "      <td>5014.0</td>\n",
       "      <td>0.070602</td>\n",
       "      <td>354.0</td>\n",
       "    </tr>\n",
       "    <tr>\n",
       "      <th>D</th>\n",
       "      <td>349.0</td>\n",
       "      <td>0.060172</td>\n",
       "      <td>21.0</td>\n",
       "    </tr>\n",
       "    <tr>\n",
       "      <th>A</th>\n",
       "      <td>25.0</td>\n",
       "      <td>0.080000</td>\n",
       "      <td>2.0</td>\n",
       "    </tr>\n",
       "    <tr>\n",
       "      <th>E</th>\n",
       "      <td>22.0</td>\n",
       "      <td>0.090909</td>\n",
       "      <td>2.0</td>\n",
       "    </tr>\n",
       "  </tbody>\n",
       "</table>\n",
       "</div>"
      ],
      "text/plain": [
       "                         count      mean     sum\n",
       "total_income_category                           \n",
       "C                      15921.0  0.084982  1353.0\n",
       "B                       5014.0  0.070602   354.0\n",
       "D                        349.0  0.060172    21.0\n",
       "A                         25.0  0.080000     2.0\n",
       "E                         22.0  0.090909     2.0"
      ]
     },
     "execution_count": 55,
     "metadata": {},
     "output_type": "execute_result"
    }
   ],
   "source": [
    "total_income_pivot = data.pivot_table(index = ['total_income_category'], values = 'debt', aggfunc = {'sum', 'count', 'mean'})\n",
    "total_income_pivot.sort_values(by='count', ascending=False)"
   ]
  },
  {
   "cell_type": "markdown",
   "id": "79b840f7",
   "metadata": {
    "id": "6dd14b57"
   },
   "source": [
    "**Вывод:** Есть зависимость от уровня доходов. Люди, чей доход составляет 50001-200000(категория С) хуже отдают кредиты в срок, здесь доля невозврата составляет 8.4%. Лучше обстоят дела с клиентами, чей доход составляет 200001–1000000(категория B), доля должников составляет 7.0%. Остальные категории сравнивать нецелесообразно, так как выборка по ним незначительна."
   ]
  },
  {
   "cell_type": "markdown",
   "id": "06371f23",
   "metadata": {},
   "source": [
    "<div class=\"alert alert-block alert-warning\">\n",
    "<b>Комментарий ревьюер:</b> \n",
    "\n",
    "⚠️ Здесь сравниваем только две группы B и С, не забываем про сбалансированость выборки))<br>"
   ]
  },
  {
   "cell_type": "markdown",
   "id": "4b9eb038",
   "metadata": {},
   "source": [
    "<div class=\"alert alert-block alert-success\">\n",
    "<b>Комментарий ревьюера_V2:</b>\n",
    "\n",
    "✔️  Здесь сравнил две самые большие группы))\n",
    "\n",
    "  </div>"
   ]
  },
  {
   "cell_type": "code",
   "execution_count": 56,
   "id": "de70107a",
   "metadata": {
    "deletable": false,
    "id": "6dd14b57",
    "scrolled": false
   },
   "outputs": [
    {
     "data": {
      "text/html": [
       "<div>\n",
       "<style scoped>\n",
       "    .dataframe tbody tr th:only-of-type {\n",
       "        vertical-align: middle;\n",
       "    }\n",
       "\n",
       "    .dataframe tbody tr th {\n",
       "        vertical-align: top;\n",
       "    }\n",
       "\n",
       "    .dataframe thead th {\n",
       "        text-align: right;\n",
       "    }\n",
       "</style>\n",
       "<table border=\"1\" class=\"dataframe\">\n",
       "  <thead>\n",
       "    <tr style=\"text-align: right;\">\n",
       "      <th></th>\n",
       "      <th>children</th>\n",
       "      <th>days_employed</th>\n",
       "      <th>dob_years</th>\n",
       "      <th>education</th>\n",
       "      <th>education_id</th>\n",
       "      <th>family_status</th>\n",
       "      <th>family_status_id</th>\n",
       "      <th>gender</th>\n",
       "      <th>income_type</th>\n",
       "      <th>debt</th>\n",
       "      <th>total_income</th>\n",
       "      <th>purpose</th>\n",
       "      <th>total_income_category</th>\n",
       "      <th>purpose_category</th>\n",
       "    </tr>\n",
       "  </thead>\n",
       "  <tbody>\n",
       "    <tr>\n",
       "      <th>0</th>\n",
       "      <td>1</td>\n",
       "      <td>8437.673028</td>\n",
       "      <td>42</td>\n",
       "      <td>высшее</td>\n",
       "      <td>0</td>\n",
       "      <td>женат / замужем</td>\n",
       "      <td>0</td>\n",
       "      <td>F</td>\n",
       "      <td>сотрудник</td>\n",
       "      <td>0</td>\n",
       "      <td>253875</td>\n",
       "      <td>покупка жилья</td>\n",
       "      <td>B</td>\n",
       "      <td>операции с недвижимостью</td>\n",
       "    </tr>\n",
       "    <tr>\n",
       "      <th>1</th>\n",
       "      <td>1</td>\n",
       "      <td>4024.803754</td>\n",
       "      <td>36</td>\n",
       "      <td>среднее</td>\n",
       "      <td>1</td>\n",
       "      <td>женат / замужем</td>\n",
       "      <td>0</td>\n",
       "      <td>F</td>\n",
       "      <td>сотрудник</td>\n",
       "      <td>0</td>\n",
       "      <td>112080</td>\n",
       "      <td>приобретение автомобиля</td>\n",
       "      <td>C</td>\n",
       "      <td>операции с автомобилем</td>\n",
       "    </tr>\n",
       "    <tr>\n",
       "      <th>2</th>\n",
       "      <td>0</td>\n",
       "      <td>5623.422610</td>\n",
       "      <td>33</td>\n",
       "      <td>среднее</td>\n",
       "      <td>1</td>\n",
       "      <td>женат / замужем</td>\n",
       "      <td>0</td>\n",
       "      <td>M</td>\n",
       "      <td>сотрудник</td>\n",
       "      <td>0</td>\n",
       "      <td>145885</td>\n",
       "      <td>покупка жилья</td>\n",
       "      <td>C</td>\n",
       "      <td>операции с недвижимостью</td>\n",
       "    </tr>\n",
       "    <tr>\n",
       "      <th>3</th>\n",
       "      <td>3</td>\n",
       "      <td>4124.747207</td>\n",
       "      <td>32</td>\n",
       "      <td>среднее</td>\n",
       "      <td>1</td>\n",
       "      <td>женат / замужем</td>\n",
       "      <td>0</td>\n",
       "      <td>M</td>\n",
       "      <td>сотрудник</td>\n",
       "      <td>0</td>\n",
       "      <td>267628</td>\n",
       "      <td>дополнительное образование</td>\n",
       "      <td>B</td>\n",
       "      <td>получение образования</td>\n",
       "    </tr>\n",
       "    <tr>\n",
       "      <th>4</th>\n",
       "      <td>0</td>\n",
       "      <td>340266.072047</td>\n",
       "      <td>53</td>\n",
       "      <td>среднее</td>\n",
       "      <td>1</td>\n",
       "      <td>гражданский брак</td>\n",
       "      <td>1</td>\n",
       "      <td>F</td>\n",
       "      <td>пенсионер</td>\n",
       "      <td>0</td>\n",
       "      <td>158616</td>\n",
       "      <td>сыграть свадьбу</td>\n",
       "      <td>C</td>\n",
       "      <td>проведение свадьбы</td>\n",
       "    </tr>\n",
       "    <tr>\n",
       "      <th>...</th>\n",
       "      <td>...</td>\n",
       "      <td>...</td>\n",
       "      <td>...</td>\n",
       "      <td>...</td>\n",
       "      <td>...</td>\n",
       "      <td>...</td>\n",
       "      <td>...</td>\n",
       "      <td>...</td>\n",
       "      <td>...</td>\n",
       "      <td>...</td>\n",
       "      <td>...</td>\n",
       "      <td>...</td>\n",
       "      <td>...</td>\n",
       "      <td>...</td>\n",
       "    </tr>\n",
       "    <tr>\n",
       "      <th>21520</th>\n",
       "      <td>1</td>\n",
       "      <td>4529.316663</td>\n",
       "      <td>43</td>\n",
       "      <td>среднее</td>\n",
       "      <td>1</td>\n",
       "      <td>гражданский брак</td>\n",
       "      <td>1</td>\n",
       "      <td>F</td>\n",
       "      <td>компаньон</td>\n",
       "      <td>0</td>\n",
       "      <td>224791</td>\n",
       "      <td>операции с жильем</td>\n",
       "      <td>B</td>\n",
       "      <td>операции с недвижимостью</td>\n",
       "    </tr>\n",
       "    <tr>\n",
       "      <th>21521</th>\n",
       "      <td>0</td>\n",
       "      <td>343937.404131</td>\n",
       "      <td>67</td>\n",
       "      <td>среднее</td>\n",
       "      <td>1</td>\n",
       "      <td>женат / замужем</td>\n",
       "      <td>0</td>\n",
       "      <td>F</td>\n",
       "      <td>пенсионер</td>\n",
       "      <td>0</td>\n",
       "      <td>155999</td>\n",
       "      <td>сделка с автомобилем</td>\n",
       "      <td>C</td>\n",
       "      <td>операции с автомобилем</td>\n",
       "    </tr>\n",
       "    <tr>\n",
       "      <th>21522</th>\n",
       "      <td>1</td>\n",
       "      <td>2113.346888</td>\n",
       "      <td>38</td>\n",
       "      <td>среднее</td>\n",
       "      <td>1</td>\n",
       "      <td>гражданский брак</td>\n",
       "      <td>1</td>\n",
       "      <td>M</td>\n",
       "      <td>сотрудник</td>\n",
       "      <td>1</td>\n",
       "      <td>89672</td>\n",
       "      <td>недвижимость</td>\n",
       "      <td>C</td>\n",
       "      <td>операции с недвижимостью</td>\n",
       "    </tr>\n",
       "    <tr>\n",
       "      <th>21523</th>\n",
       "      <td>3</td>\n",
       "      <td>3112.481705</td>\n",
       "      <td>38</td>\n",
       "      <td>среднее</td>\n",
       "      <td>1</td>\n",
       "      <td>женат / замужем</td>\n",
       "      <td>0</td>\n",
       "      <td>M</td>\n",
       "      <td>сотрудник</td>\n",
       "      <td>1</td>\n",
       "      <td>244093</td>\n",
       "      <td>на покупку своего автомобиля</td>\n",
       "      <td>B</td>\n",
       "      <td>операции с автомобилем</td>\n",
       "    </tr>\n",
       "    <tr>\n",
       "      <th>21524</th>\n",
       "      <td>2</td>\n",
       "      <td>1984.507589</td>\n",
       "      <td>40</td>\n",
       "      <td>среднее</td>\n",
       "      <td>1</td>\n",
       "      <td>женат / замужем</td>\n",
       "      <td>0</td>\n",
       "      <td>F</td>\n",
       "      <td>сотрудник</td>\n",
       "      <td>0</td>\n",
       "      <td>82047</td>\n",
       "      <td>на покупку автомобиля</td>\n",
       "      <td>C</td>\n",
       "      <td>операции с автомобилем</td>\n",
       "    </tr>\n",
       "  </tbody>\n",
       "</table>\n",
       "<p>21331 rows × 14 columns</p>\n",
       "</div>"
      ],
      "text/plain": [
       "       children  days_employed  dob_years education  education_id  \\\n",
       "0             1    8437.673028         42    высшее             0   \n",
       "1             1    4024.803754         36   среднее             1   \n",
       "2             0    5623.422610         33   среднее             1   \n",
       "3             3    4124.747207         32   среднее             1   \n",
       "4             0  340266.072047         53   среднее             1   \n",
       "...         ...            ...        ...       ...           ...   \n",
       "21520         1    4529.316663         43   среднее             1   \n",
       "21521         0  343937.404131         67   среднее             1   \n",
       "21522         1    2113.346888         38   среднее             1   \n",
       "21523         3    3112.481705         38   среднее             1   \n",
       "21524         2    1984.507589         40   среднее             1   \n",
       "\n",
       "          family_status  family_status_id gender income_type  debt  \\\n",
       "0       женат / замужем                 0      F   сотрудник     0   \n",
       "1       женат / замужем                 0      F   сотрудник     0   \n",
       "2       женат / замужем                 0      M   сотрудник     0   \n",
       "3       женат / замужем                 0      M   сотрудник     0   \n",
       "4      гражданский брак                 1      F   пенсионер     0   \n",
       "...                 ...               ...    ...         ...   ...   \n",
       "21520  гражданский брак                 1      F   компаньон     0   \n",
       "21521   женат / замужем                 0      F   пенсионер     0   \n",
       "21522  гражданский брак                 1      M   сотрудник     1   \n",
       "21523   женат / замужем                 0      M   сотрудник     1   \n",
       "21524   женат / замужем                 0      F   сотрудник     0   \n",
       "\n",
       "       total_income                       purpose total_income_category  \\\n",
       "0            253875                 покупка жилья                     B   \n",
       "1            112080       приобретение автомобиля                     C   \n",
       "2            145885                 покупка жилья                     C   \n",
       "3            267628    дополнительное образование                     B   \n",
       "4            158616               сыграть свадьбу                     C   \n",
       "...             ...                           ...                   ...   \n",
       "21520        224791             операции с жильем                     B   \n",
       "21521        155999          сделка с автомобилем                     C   \n",
       "21522         89672                  недвижимость                     C   \n",
       "21523        244093  на покупку своего автомобиля                     B   \n",
       "21524         82047         на покупку автомобиля                     C   \n",
       "\n",
       "               purpose_category  \n",
       "0      операции с недвижимостью  \n",
       "1        операции с автомобилем  \n",
       "2      операции с недвижимостью  \n",
       "3         получение образования  \n",
       "4            проведение свадьбы  \n",
       "...                         ...  \n",
       "21520  операции с недвижимостью  \n",
       "21521    операции с автомобилем  \n",
       "21522  операции с недвижимостью  \n",
       "21523    операции с автомобилем  \n",
       "21524    операции с автомобилем  \n",
       "\n",
       "[21331 rows x 14 columns]"
      ]
     },
     "execution_count": 56,
     "metadata": {},
     "output_type": "execute_result"
    }
   ],
   "source": [
    "data"
   ]
  },
  {
   "cell_type": "markdown",
   "id": "1dcc9b12",
   "metadata": {
    "deletable": false,
    "editable": false,
    "id": "1dcc9b12"
   },
   "source": [
    "#### 3.4 Как разные цели кредита влияют на его возврат в срок?"
   ]
  },
  {
   "cell_type": "code",
   "execution_count": 57,
   "id": "c602bc8b",
   "metadata": {
    "deletable": false,
    "id": "c602bc8b"
   },
   "outputs": [
    {
     "data": {
      "text/plain": [
       "purpose_category\n",
       "операции с недвижимостью    7.255139\n",
       "проведение свадьбы          7.911803\n",
       "получение образования       9.252758\n",
       "операции с автомобилем      9.347978\n",
       "Name: debt, dtype: float64"
      ]
     },
     "execution_count": 57,
     "metadata": {},
     "output_type": "execute_result"
    }
   ],
   "source": [
    "purpose_set = data.groupby('purpose_category')['debt'].sum() / data.groupby('purpose_category')['debt'].count() * 100\n",
    "purpose_set.sort_values()"
   ]
  },
  {
   "cell_type": "code",
   "execution_count": 58,
   "id": "2c833813",
   "metadata": {},
   "outputs": [],
   "source": [
    "#purpose_pivot = data.pivot_table(index='purpose_category', \\\n",
    " #                                columns='debt', \\\n",
    " #                                values='purpose', aggfunc='count')\n",
    "#purpose_pivot['ratio'] = purpose_pivot[1] / purpose_pivot[0] * 100\n",
    "#purpose_pivot.sort_values(by='ratio')"
   ]
  },
  {
   "cell_type": "code",
   "execution_count": 59,
   "id": "41e3bfb5",
   "metadata": {},
   "outputs": [
    {
     "data": {
      "text/html": [
       "<div>\n",
       "<style scoped>\n",
       "    .dataframe tbody tr th:only-of-type {\n",
       "        vertical-align: middle;\n",
       "    }\n",
       "\n",
       "    .dataframe tbody tr th {\n",
       "        vertical-align: top;\n",
       "    }\n",
       "\n",
       "    .dataframe thead th {\n",
       "        text-align: right;\n",
       "    }\n",
       "</style>\n",
       "<table border=\"1\" class=\"dataframe\">\n",
       "  <thead>\n",
       "    <tr style=\"text-align: right;\">\n",
       "      <th></th>\n",
       "      <th>count</th>\n",
       "      <th>mean</th>\n",
       "      <th>sum</th>\n",
       "    </tr>\n",
       "    <tr>\n",
       "      <th>purpose_category</th>\n",
       "      <th></th>\n",
       "      <th></th>\n",
       "      <th></th>\n",
       "    </tr>\n",
       "  </thead>\n",
       "  <tbody>\n",
       "    <tr>\n",
       "      <th>операции с недвижимостью</th>\n",
       "      <td>10751.0</td>\n",
       "      <td>0.072551</td>\n",
       "      <td>780.0</td>\n",
       "    </tr>\n",
       "    <tr>\n",
       "      <th>операции с автомобилем</th>\n",
       "      <td>4279.0</td>\n",
       "      <td>0.093480</td>\n",
       "      <td>400.0</td>\n",
       "    </tr>\n",
       "    <tr>\n",
       "      <th>получение образования</th>\n",
       "      <td>3988.0</td>\n",
       "      <td>0.092528</td>\n",
       "      <td>369.0</td>\n",
       "    </tr>\n",
       "    <tr>\n",
       "      <th>проведение свадьбы</th>\n",
       "      <td>2313.0</td>\n",
       "      <td>0.079118</td>\n",
       "      <td>183.0</td>\n",
       "    </tr>\n",
       "  </tbody>\n",
       "</table>\n",
       "</div>"
      ],
      "text/plain": [
       "                            count      mean    sum\n",
       "purpose_category                                  \n",
       "операции с недвижимостью  10751.0  0.072551  780.0\n",
       "операции с автомобилем     4279.0  0.093480  400.0\n",
       "получение образования      3988.0  0.092528  369.0\n",
       "проведение свадьбы         2313.0  0.079118  183.0"
      ]
     },
     "execution_count": 59,
     "metadata": {},
     "output_type": "execute_result"
    }
   ],
   "source": [
    "purpose_pivot = data.pivot_table(index = ['purpose_category'], values = 'debt', aggfunc = {'sum', 'count', 'mean'})\n",
    "purpose_pivot.sort_values(by='count', ascending=False)"
   ]
  },
  {
   "cell_type": "markdown",
   "id": "cf05ed63",
   "metadata": {
    "deletable": false,
    "id": "cf05ed63"
   },
   "source": [
    "**Вывод:** Люди, которые берут кредиты на операции с автомобилем и на получение образования, хуже отдают кредиты в срок, доля невозврата составляет 9.3% и 9.2% соответственно. Лучше отдают кредиты клиенты, взявшие кредит на проведение свадьбы, процент невовзрата составляет 7.9. Лучше остальных кредиты возвращают люди, взявшие ипотеку, здесь процент составляет 7.2%. Более вероятно, что люди, которые берут ипотеку более серьезно подходят к этому решению. Как правило, чтобы взять ипотеку нужен первый взнос, который в среднем составляет от 10% от стоимости жилья/помещения, и который выплачивается из собственных средств заемщика. Это подразумевает, что человек, скорее всего, долго подходил к решению о покупке жилья и в большей мере рассчитал свои возможности по выплатам.  "
   ]
  },
  {
   "cell_type": "markdown",
   "id": "c41c973f",
   "metadata": {},
   "source": [
    "<div class=\"alert alert-block alert-warning\">\n",
    "<b>Комментарий ревьюера:</b> \n",
    "\n",
    "⚠️ Почему по твоему самые надежные заемщики те, кто берет ипотеку? Здесь можно порасуждать в выводах)) "
   ]
  },
  {
   "cell_type": "markdown",
   "id": "26d29738",
   "metadata": {},
   "source": [
    "<div class=\"alert alert-block alert-success\">\n",
    "<b>Комментарий ревьюера_V2:</b>\n",
    "\n",
    "✔️ Самые большие суммы при ипотеке, поэтому банки предъявляют самые жесткие требования к ипотечникам, поэтому их проверяют вдоль и поперек при выдаче кредитов, плюс собственность находится в залоге у банка, не будешь платить она вернется к банку)) \n",
    "   \n",
    "       \n",
    "  </div>"
   ]
  },
  {
   "cell_type": "markdown",
   "id": "46c1f10b",
   "metadata": {
    "deletable": false,
    "editable": false,
    "id": "46c1f10b"
   },
   "source": [
    "#### 3.5 Приведите возможные причины появления пропусков в исходных данных."
   ]
  },
  {
   "cell_type": "markdown",
   "id": "3697d2a9",
   "metadata": {
    "deletable": false,
    "id": "3697d2a9"
   },
   "source": [
    "*Ответ:* Технологические ошибки(сбой при копировании, выгрузке). Человеческий фактор(опечатки). В нашем случае пропуски в столбце 'days_employed' и 'total_income' одинаковы, и могут быть связаны с тем, что эти люди никогда не работали, так как молоды или работали не официально, либо данные некорректно выгружены. "
   ]
  },
  {
   "cell_type": "markdown",
   "id": "63064041",
   "metadata": {},
   "source": [
    "<div class=\"alert alert-block alert-warning\">\n",
    "<b>Комментарий ревьюера:</b> \n",
    "\n",
    "⚠️  Да, всё здраво. В принципе эти возможные причины сразу и приходят в голову. \n",
    "    \n",
    "Однако, если пристально взглянуть на на наши данные, то увидим что пропуски в столбцах \"трудовой стаж\" и \"ежемесячный доход\" абсолютно идентичны. Количество ячеек с отсутствующими данными в обоих указанных столбцах совпадает и равно 2174. Маловероятно, что специалисты по выдаче кредитов, заполнив все без исключения ячейки других столбцов по каждому кредитополучателю, оставляли незаполненными именно два показателя, и сделали это ровно 2174 раза в каждом столбце. Даже не проводя проверку, во всех ли случаях незаполненные ячейки находятся в одной и то же строке с высокой долей вероятности можно утверждать, что произошла техническая ошибка при формировании таблицы с исходными данными (либо некий сбой во время выгрузки данных на анализ, либо при объединении данных в единый файл, который также должен был передаваться на анализ, либо эти данные не собирались).\n",
    "</div>"
   ]
  },
  {
   "cell_type": "markdown",
   "id": "d50873dc",
   "metadata": {},
   "source": [
    "<div class=\"alert alert-block alert-info\">\n",
    "<b>Комментарий усвоил. Спасибо за объяснение.</b>\n",
    "</div>"
   ]
  },
  {
   "cell_type": "markdown",
   "id": "3137d257",
   "metadata": {
    "deletable": false,
    "editable": false,
    "id": "3137d257"
   },
   "source": [
    "#### 3.6 Объясните, почему заполнить пропуски медианным значением — лучшее решение для количественных переменных."
   ]
  },
  {
   "cell_type": "markdown",
   "id": "cf40012a",
   "metadata": {
    "deletable": false,
    "id": "cf40012a"
   },
   "source": [
    "*Ответ:* Медианное значение лучше характеризует данные, если некоторые значения сильно выделяются среди большинства."
   ]
  },
  {
   "cell_type": "markdown",
   "id": "9fbb8657",
   "metadata": {},
   "source": [
    "<div class=\"alert alert-block alert-success\">\n",
    "<b>Комментарий ревьюера:</b>\n",
    "\n",
    "✔️ Медиана не подвержена выбросам, все верно)) "
   ]
  },
  {
   "cell_type": "markdown",
   "id": "57bc304e",
   "metadata": {
    "deletable": false,
    "editable": false,
    "id": "57bc304e"
   },
   "source": [
    "### Шаг 4: общий вывод."
   ]
  },
  {
   "cell_type": "markdown",
   "id": "1ab75d1c",
   "metadata": {
    "deletable": false,
    "id": "1ab75d1c"
   },
   "source": [
    "- Присутствует зависимость между количеством детей и возвратом кредита в срок. Люди, которые не имеют детей, лучше всего отдают кредит, доля должников здесь составляет с 7,5%, хуже обстоит дело с должниками, кто имеет одного или двух детей, здесь доля невозврата составляет соответственно 9,2% и 9,4%.\n",
    "- Наблюдается зависимость между семейным положением и возвратом кредита в срок. Лучше всего отдают кредит вдовы/вдовцы, люди в разводе и женатые/замужние, доля невозврата составляет 6.6% , 7.0% и 7.5% соответственно. Хуже отдают кредиты должники, находящиеся в гражданском браке и неженатые/незамужние клиенты, доля невозврата составляет 9.3% и 9.7% соответственно.\n",
    "- Есть зависимость от уровня доходов. Люди, чей доход составляет 50001-200000(категория С) хуже отдают кредиты в срок, здесь доля невозврата составляет 8.4%. Лучше обстоят дела с клиентами, чей доход составляет 200001–1000000(категория B), доля должников составляет 7.0%. Остальные категории сравнивать нецелесообразно, так как выборка по ним незначительна.\n",
    "- Люди, которые берут кредиты на операции с автомобилем и на получение образования, хуже отдают кредиты в срок, доля невозврата составляет 9.3% и 9.2% соответственно. Лучше отдают кредиты клиенты, взявшие кредит на проведение свадьбы, процент невовзрата составляет 7.9. Лучше остальных кредиты возвращают люди, взявшие ипотеку, здесь процент составляет 7.2%"
   ]
  },
  {
   "cell_type": "markdown",
   "id": "0d49bf87",
   "metadata": {},
   "source": [
    "# Рекомендации для банка\n",
    "- Уделить внимание правилам валидации на сервере, чтобы больше не сталкиваться с проблемой дублей.\n",
    "- Считать стаж работы в годах, пользователи чаще всего не знают свой стаж в днях.\n",
    "- Показывать операторам в банке или пользователям на сайте подсказки заранее, когда вводят сверхвысокие/сверхнизкие\n",
    "  значения в полях: возраст, стаж, количество детей."
   ]
  },
  {
   "cell_type": "markdown",
   "id": "2ec0b445",
   "metadata": {},
   "source": [
    " <div class=\"alert alert-block alert-success\">\n",
    "<b>Комментарий ревьюера_V2:</b>\n",
    "\n",
    "✔️ Выводы отлично переработал, молодец)) Рекомендации даны банку, исследование проведено))\n",
    "  \n",
    "  \n",
    "</div>"
   ]
  },
  {
   "cell_type": "markdown",
   "id": "340d4518",
   "metadata": {},
   "source": [
    "<div class=\"alert alert-block alert-danger\">\n",
    "<b>Комментарий ревьюера:</b> \n",
    "\n",
    "❌ Выводы должны быть детальными:\n",
    "- Отвечаешь на вопрос \"Есть ли зависимость между количеством детей и возвратом кредита в срок?\"\n",
    "- Отвечаешь на вопрос  \"Есть ли зависимость между семейным положением и возвратом кредита в срок?\"\n",
    "- Отвечаешь на вопрос  \"Есть ли зависимость между уровнем дохода и возвратом кредита в срок?\"\n",
    "- Отвечаешь на вопрос  \"Как разные цели кредита влияют на его возврат в срок?\"\n",
    "- Даешь рекомендацией банку по улучшению сбора данных и скоринга.\n",
    "\n",
    "Общий вывод - резюме этой работы. Большинство заказчиков посмотрят сначала его (а некоторые только его). Чтобы выводы не огорошивали заказчика своей очевидностью, стоит добавить в них цифр, всяких корреляций, процентов итд :) Сделай так, чтобы вся найденная в данных информация была отражена в выводе))"
   ]
  },
  {
   "cell_type": "markdown",
   "id": "e079fa7d",
   "metadata": {},
   "source": [
    "<div class=\"alert alert-block alert-success\">\n",
    "<b>Комментарий ревьюера:</b>\n",
    "    \n",
    "Максим, отлично поработал, видно что умеешь работать с кодом, в общем молодец, но нужно будет оптимизировать код при изучении взаимосвязей и поработать над выводами)) \n",
    "<br> Жду исправленного варианта)\n",
    "  </div>"
   ]
  },
  {
   "cell_type": "markdown",
   "id": "68333961",
   "metadata": {},
   "source": [
    "<div class=\"alert alert-block alert-success\">\n",
    "<b>Комментарий ревьюера_V2:</b>\n",
    "    \n",
    "Максим, отлично поработал, можно двигаться дальше)) Успехов в дальнейшем обучении)) \n",
    "  </div>"
   ]
  }
 ],
 "metadata": {
  "ExecuteTimeLog": [
   {
    "duration": 66,
    "start_time": "2023-04-04T09:45:34.559Z"
   },
   {
    "duration": 825,
    "start_time": "2023-04-04T09:45:42.364Z"
   },
   {
    "duration": 25,
    "start_time": "2023-04-04T09:45:43.369Z"
   },
   {
    "duration": 20,
    "start_time": "2023-04-04T09:45:44.847Z"
   },
   {
    "duration": 11,
    "start_time": "2023-04-04T09:45:46.627Z"
   },
   {
    "duration": 41,
    "start_time": "2023-04-04T09:45:47.567Z"
   },
   {
    "duration": 4,
    "start_time": "2023-04-04T09:45:48.711Z"
   },
   {
    "duration": 10,
    "start_time": "2023-04-04T09:45:49.641Z"
   },
   {
    "duration": 5,
    "start_time": "2023-04-04T09:45:51.215Z"
   },
   {
    "duration": 8,
    "start_time": "2023-04-04T09:45:52.164Z"
   },
   {
    "duration": 6,
    "start_time": "2023-04-04T09:45:53.153Z"
   },
   {
    "duration": 43,
    "start_time": "2023-04-04T09:45:54.612Z"
   },
   {
    "duration": 12,
    "start_time": "2023-04-04T09:45:55.580Z"
   },
   {
    "duration": 4,
    "start_time": "2023-04-04T09:45:57.029Z"
   },
   {
    "duration": 13,
    "start_time": "2023-04-04T09:45:58.362Z"
   },
   {
    "duration": 26,
    "start_time": "2023-04-04T09:45:59.121Z"
   },
   {
    "duration": 23,
    "start_time": "2023-04-04T09:45:59.547Z"
   },
   {
    "duration": 6,
    "start_time": "2023-04-04T09:46:00.910Z"
   },
   {
    "duration": 13,
    "start_time": "2023-04-04T09:46:01.430Z"
   },
   {
    "duration": 6,
    "start_time": "2023-04-04T09:46:02.492Z"
   },
   {
    "duration": 3,
    "start_time": "2023-04-04T09:46:03.825Z"
   },
   {
    "duration": 14,
    "start_time": "2023-04-04T09:46:04.342Z"
   },
   {
    "duration": 11,
    "start_time": "2023-04-04T09:46:06.053Z"
   },
   {
    "duration": 10,
    "start_time": "2023-04-04T09:46:59.646Z"
   },
   {
    "duration": 6,
    "start_time": "2023-04-04T09:48:40.308Z"
   },
   {
    "duration": 50,
    "start_time": "2023-04-04T09:49:56.099Z"
   },
   {
    "duration": 15,
    "start_time": "2023-04-04T09:50:03.428Z"
   },
   {
    "duration": 29,
    "start_time": "2023-04-04T09:50:28.781Z"
   },
   {
    "duration": 13,
    "start_time": "2023-04-04T10:10:51.122Z"
   },
   {
    "duration": 205,
    "start_time": "2023-04-04T10:13:30.621Z"
   },
   {
    "duration": 13,
    "start_time": "2023-04-04T10:13:51.981Z"
   },
   {
    "duration": 165,
    "start_time": "2023-04-04T10:13:52.556Z"
   },
   {
    "duration": 23,
    "start_time": "2023-04-04T10:14:13.233Z"
   },
   {
    "duration": 38,
    "start_time": "2023-04-04T10:17:28.596Z"
   },
   {
    "duration": 22,
    "start_time": "2023-04-04T10:18:17.962Z"
   },
   {
    "duration": 10,
    "start_time": "2023-04-04T10:30:47.324Z"
   },
   {
    "duration": 9,
    "start_time": "2023-04-04T10:36:21.144Z"
   },
   {
    "duration": 10,
    "start_time": "2023-04-04T10:36:35.585Z"
   },
   {
    "duration": 4,
    "start_time": "2023-04-04T10:36:36.070Z"
   },
   {
    "duration": 536,
    "start_time": "2023-04-04T10:36:36.553Z"
   },
   {
    "duration": 4,
    "start_time": "2023-04-04T10:37:00.064Z"
   },
   {
    "duration": 11,
    "start_time": "2023-04-04T10:37:00.516Z"
   },
   {
    "duration": 26,
    "start_time": "2023-04-04T10:37:13.360Z"
   },
   {
    "duration": 22,
    "start_time": "2023-04-04T10:37:41.749Z"
   },
   {
    "duration": 28,
    "start_time": "2023-04-04T10:37:57.989Z"
   },
   {
    "duration": 13,
    "start_time": "2023-04-04T10:39:49.636Z"
   },
   {
    "duration": 14,
    "start_time": "2023-04-04T10:40:08.144Z"
   },
   {
    "duration": 14,
    "start_time": "2023-04-04T10:40:53.712Z"
   },
   {
    "duration": 11,
    "start_time": "2023-04-04T10:41:18.127Z"
   },
   {
    "duration": 30,
    "start_time": "2023-04-04T10:41:43.404Z"
   },
   {
    "duration": 24,
    "start_time": "2023-04-04T10:42:06.616Z"
   },
   {
    "duration": 583,
    "start_time": "2023-04-04T10:42:12.688Z"
   },
   {
    "duration": 23,
    "start_time": "2023-04-04T10:42:15.725Z"
   },
   {
    "duration": 23,
    "start_time": "2023-04-04T10:42:28.871Z"
   },
   {
    "duration": 22,
    "start_time": "2023-04-04T10:43:55.495Z"
   },
   {
    "duration": 123,
    "start_time": "2023-04-04T10:48:56.595Z"
   },
   {
    "duration": 13,
    "start_time": "2023-04-04T10:49:08.257Z"
   },
   {
    "duration": 30,
    "start_time": "2023-04-04T10:49:28.843Z"
   },
   {
    "duration": 21,
    "start_time": "2023-04-04T10:49:43.382Z"
   },
   {
    "duration": 17,
    "start_time": "2023-04-04T11:00:45.199Z"
   },
   {
    "duration": 14,
    "start_time": "2023-04-04T11:00:51.962Z"
   },
   {
    "duration": 8,
    "start_time": "2023-04-04T11:01:38.295Z"
   },
   {
    "duration": 7,
    "start_time": "2023-04-04T11:01:56.382Z"
   },
   {
    "duration": 10,
    "start_time": "2023-04-04T11:02:15.645Z"
   },
   {
    "duration": 10,
    "start_time": "2023-04-04T11:02:22.318Z"
   },
   {
    "duration": 6,
    "start_time": "2023-04-04T11:02:36.487Z"
   },
   {
    "duration": 10,
    "start_time": "2023-04-04T11:02:38.608Z"
   },
   {
    "duration": 3,
    "start_time": "2023-04-04T11:03:45.992Z"
   },
   {
    "duration": 15,
    "start_time": "2023-04-04T11:06:06.860Z"
   },
   {
    "duration": 15,
    "start_time": "2023-04-04T11:06:17.918Z"
   },
   {
    "duration": 13,
    "start_time": "2023-04-04T11:09:38.756Z"
   },
   {
    "duration": 10,
    "start_time": "2023-04-04T11:11:47.858Z"
   },
   {
    "duration": 6,
    "start_time": "2023-04-04T11:11:48.411Z"
   },
   {
    "duration": 23,
    "start_time": "2023-04-04T11:11:49.061Z"
   },
   {
    "duration": 16,
    "start_time": "2023-04-04T11:11:54.113Z"
   },
   {
    "duration": 22,
    "start_time": "2023-04-04T11:11:54.882Z"
   },
   {
    "duration": 29,
    "start_time": "2023-04-04T11:14:18.367Z"
   },
   {
    "duration": 79,
    "start_time": "2023-04-04T11:15:19.228Z"
   },
   {
    "duration": 18,
    "start_time": "2023-04-04T11:15:20.335Z"
   },
   {
    "duration": 16,
    "start_time": "2023-04-04T11:15:27.357Z"
   },
   {
    "duration": 11,
    "start_time": "2023-04-04T11:15:29.087Z"
   },
   {
    "duration": 38,
    "start_time": "2023-04-04T11:15:29.988Z"
   },
   {
    "duration": 4,
    "start_time": "2023-04-04T11:15:31.182Z"
   },
   {
    "duration": 9,
    "start_time": "2023-04-04T11:15:32.012Z"
   },
   {
    "duration": 6,
    "start_time": "2023-04-04T11:15:33.518Z"
   },
   {
    "duration": 7,
    "start_time": "2023-04-04T11:15:34.281Z"
   },
   {
    "duration": 6,
    "start_time": "2023-04-04T11:15:34.970Z"
   },
   {
    "duration": 38,
    "start_time": "2023-04-04T11:15:36.171Z"
   },
   {
    "duration": 12,
    "start_time": "2023-04-04T11:15:36.956Z"
   },
   {
    "duration": 4,
    "start_time": "2023-04-04T11:15:38.180Z"
   },
   {
    "duration": 13,
    "start_time": "2023-04-04T11:15:39.190Z"
   },
   {
    "duration": 21,
    "start_time": "2023-04-04T11:15:39.865Z"
   },
   {
    "duration": 21,
    "start_time": "2023-04-04T11:15:40.186Z"
   },
   {
    "duration": 4,
    "start_time": "2023-04-04T11:15:41.456Z"
   },
   {
    "duration": 11,
    "start_time": "2023-04-04T11:15:41.969Z"
   },
   {
    "duration": 7,
    "start_time": "2023-04-04T11:15:43.164Z"
   },
   {
    "duration": 4,
    "start_time": "2023-04-04T11:15:44.325Z"
   },
   {
    "duration": 11,
    "start_time": "2023-04-04T11:15:44.789Z"
   },
   {
    "duration": 12,
    "start_time": "2023-04-04T11:15:46.648Z"
   },
   {
    "duration": 7,
    "start_time": "2023-04-04T11:15:47.191Z"
   },
   {
    "duration": 26,
    "start_time": "2023-04-04T11:15:47.856Z"
   },
   {
    "duration": 14,
    "start_time": "2023-04-04T11:15:49.843Z"
   },
   {
    "duration": 23,
    "start_time": "2023-04-04T11:15:50.523Z"
   },
   {
    "duration": 27,
    "start_time": "2023-04-04T11:15:53.190Z"
   },
   {
    "duration": 14,
    "start_time": "2023-04-04T11:17:44.095Z"
   },
   {
    "duration": 22,
    "start_time": "2023-04-04T11:21:15.858Z"
   },
   {
    "duration": 22,
    "start_time": "2023-04-04T11:24:15.160Z"
   },
   {
    "duration": 29,
    "start_time": "2023-04-04T11:27:47.297Z"
   },
   {
    "duration": 14,
    "start_time": "2023-04-04T11:28:03.139Z"
   },
   {
    "duration": 22,
    "start_time": "2023-04-04T11:28:38.656Z"
   },
   {
    "duration": 16,
    "start_time": "2023-04-04T11:29:06.998Z"
   },
   {
    "duration": 23,
    "start_time": "2023-04-04T11:29:07.500Z"
   },
   {
    "duration": 14,
    "start_time": "2023-04-04T11:29:33.592Z"
   },
   {
    "duration": 34,
    "start_time": "2023-04-04T11:29:34.048Z"
   },
   {
    "duration": 22,
    "start_time": "2023-04-04T11:29:40.189Z"
   },
   {
    "duration": 31,
    "start_time": "2023-04-04T11:33:30.397Z"
   },
   {
    "duration": 30,
    "start_time": "2023-04-04T11:36:04.503Z"
   },
   {
    "duration": 5,
    "start_time": "2023-04-04T11:37:19.708Z"
   },
   {
    "duration": 17,
    "start_time": "2023-04-04T11:37:20.030Z"
   },
   {
    "duration": 9,
    "start_time": "2023-04-04T11:37:20.382Z"
   },
   {
    "duration": 5,
    "start_time": "2023-04-04T11:37:20.986Z"
   },
   {
    "duration": 15,
    "start_time": "2023-04-04T11:37:21.191Z"
   },
   {
    "duration": 14,
    "start_time": "2023-04-04T11:37:21.727Z"
   },
   {
    "duration": 9,
    "start_time": "2023-04-04T11:37:21.903Z"
   },
   {
    "duration": 37,
    "start_time": "2023-04-04T11:37:22.120Z"
   },
   {
    "duration": 20,
    "start_time": "2023-04-04T11:37:23.481Z"
   },
   {
    "duration": 32,
    "start_time": "2023-04-04T11:37:23.743Z"
   },
   {
    "duration": 17,
    "start_time": "2023-04-04T11:37:24.788Z"
   },
   {
    "duration": 25,
    "start_time": "2023-04-04T11:37:25.086Z"
   },
   {
    "duration": 87,
    "start_time": "2023-04-04T11:38:41.994Z"
   },
   {
    "duration": 8,
    "start_time": "2023-04-04T11:38:44.192Z"
   },
   {
    "duration": 552,
    "start_time": "2023-04-04T11:38:49.503Z"
   },
   {
    "duration": 36,
    "start_time": "2023-04-04T11:38:50.807Z"
   },
   {
    "duration": 24,
    "start_time": "2023-04-04T11:38:52.619Z"
   },
   {
    "duration": 17,
    "start_time": "2023-04-04T11:38:55.206Z"
   },
   {
    "duration": 43,
    "start_time": "2023-04-04T11:38:56.101Z"
   },
   {
    "duration": 4,
    "start_time": "2023-04-04T11:38:57.405Z"
   },
   {
    "duration": 12,
    "start_time": "2023-04-04T11:38:58.230Z"
   },
   {
    "duration": 6,
    "start_time": "2023-04-04T11:38:59.350Z"
   },
   {
    "duration": 8,
    "start_time": "2023-04-04T11:39:00.071Z"
   },
   {
    "duration": 6,
    "start_time": "2023-04-04T11:39:00.787Z"
   },
   {
    "duration": 58,
    "start_time": "2023-04-04T11:39:01.904Z"
   },
   {
    "duration": 12,
    "start_time": "2023-04-04T11:39:02.677Z"
   },
   {
    "duration": 4,
    "start_time": "2023-04-04T11:39:04.198Z"
   },
   {
    "duration": 20,
    "start_time": "2023-04-04T11:39:05.301Z"
   },
   {
    "duration": 24,
    "start_time": "2023-04-04T11:39:06.156Z"
   },
   {
    "duration": 29,
    "start_time": "2023-04-04T11:39:06.593Z"
   },
   {
    "duration": 4,
    "start_time": "2023-04-04T11:39:14.041Z"
   },
   {
    "duration": 17,
    "start_time": "2023-04-04T11:39:14.899Z"
   },
   {
    "duration": 9,
    "start_time": "2023-04-04T11:39:17.291Z"
   },
   {
    "duration": 5,
    "start_time": "2023-04-04T11:39:18.892Z"
   },
   {
    "duration": 10,
    "start_time": "2023-04-04T11:39:19.992Z"
   },
   {
    "duration": 13,
    "start_time": "2023-04-04T11:39:24.201Z"
   },
   {
    "duration": 8,
    "start_time": "2023-04-04T11:39:24.987Z"
   },
   {
    "duration": 35,
    "start_time": "2023-04-04T11:39:26.516Z"
   },
   {
    "duration": 17,
    "start_time": "2023-04-04T11:39:30.520Z"
   },
   {
    "duration": 29,
    "start_time": "2023-04-04T11:39:32.952Z"
   },
   {
    "duration": 13,
    "start_time": "2023-04-04T11:39:37.885Z"
   },
   {
    "duration": 29,
    "start_time": "2023-04-04T11:39:41.157Z"
   },
   {
    "duration": 17,
    "start_time": "2023-04-04T11:41:06.731Z"
   },
   {
    "duration": 31,
    "start_time": "2023-04-04T11:41:07.333Z"
   },
   {
    "duration": 22,
    "start_time": "2023-04-04T11:41:46.635Z"
   },
   {
    "duration": 24,
    "start_time": "2023-04-04T11:42:36.844Z"
   },
   {
    "duration": 14,
    "start_time": "2023-04-04T11:42:42.152Z"
   },
   {
    "duration": 22,
    "start_time": "2023-04-04T11:43:03.358Z"
   },
   {
    "duration": 23,
    "start_time": "2023-04-04T11:43:34.502Z"
   },
   {
    "duration": 14,
    "start_time": "2023-04-04T11:43:39.834Z"
   },
   {
    "duration": 34,
    "start_time": "2023-04-04T11:46:17.152Z"
   },
   {
    "duration": 75,
    "start_time": "2023-04-04T12:37:06.441Z"
   },
   {
    "duration": 24,
    "start_time": "2023-04-04T12:37:07.352Z"
   },
   {
    "duration": 16,
    "start_time": "2023-04-04T12:37:08.538Z"
   },
   {
    "duration": 12,
    "start_time": "2023-04-04T12:37:09.934Z"
   },
   {
    "duration": 36,
    "start_time": "2023-04-04T12:37:10.557Z"
   },
   {
    "duration": 4,
    "start_time": "2023-04-04T12:37:11.538Z"
   },
   {
    "duration": 9,
    "start_time": "2023-04-04T12:37:13.278Z"
   },
   {
    "duration": 5,
    "start_time": "2023-04-04T12:37:13.290Z"
   },
   {
    "duration": 7,
    "start_time": "2023-04-04T12:37:13.948Z"
   },
   {
    "duration": 6,
    "start_time": "2023-04-04T12:37:14.613Z"
   },
   {
    "duration": 35,
    "start_time": "2023-04-04T12:37:15.529Z"
   },
   {
    "duration": 11,
    "start_time": "2023-04-04T12:37:16.142Z"
   },
   {
    "duration": 5,
    "start_time": "2023-04-04T12:37:16.983Z"
   },
   {
    "duration": 13,
    "start_time": "2023-04-04T12:37:17.734Z"
   },
   {
    "duration": 24,
    "start_time": "2023-04-04T12:37:18.194Z"
   },
   {
    "duration": 18,
    "start_time": "2023-04-04T12:37:18.405Z"
   },
   {
    "duration": 5,
    "start_time": "2023-04-04T12:37:19.003Z"
   },
   {
    "duration": 12,
    "start_time": "2023-04-04T12:37:19.195Z"
   },
   {
    "duration": 6,
    "start_time": "2023-04-04T12:37:19.599Z"
   },
   {
    "duration": 3,
    "start_time": "2023-04-04T12:37:20.300Z"
   },
   {
    "duration": 9,
    "start_time": "2023-04-04T12:37:20.699Z"
   },
   {
    "duration": 10,
    "start_time": "2023-04-04T12:37:21.865Z"
   },
   {
    "duration": 6,
    "start_time": "2023-04-04T12:37:22.191Z"
   },
   {
    "duration": 26,
    "start_time": "2023-04-04T12:37:22.491Z"
   },
   {
    "duration": 16,
    "start_time": "2023-04-04T12:37:24.029Z"
   },
   {
    "duration": 21,
    "start_time": "2023-04-04T12:37:24.499Z"
   },
   {
    "duration": 12,
    "start_time": "2023-04-04T12:37:26.331Z"
   },
   {
    "duration": 33,
    "start_time": "2023-04-04T12:37:27.111Z"
   },
   {
    "duration": 31,
    "start_time": "2023-04-04T12:37:28.036Z"
   },
   {
    "duration": 13,
    "start_time": "2023-04-04T12:37:29.533Z"
   },
   {
    "duration": 25,
    "start_time": "2023-04-04T12:37:30.006Z"
   },
   {
    "duration": 77,
    "start_time": "2023-04-04T12:37:58.002Z"
   },
   {
    "duration": 20,
    "start_time": "2023-04-04T12:37:58.292Z"
   },
   {
    "duration": 16,
    "start_time": "2023-04-04T12:37:58.956Z"
   },
   {
    "duration": 12,
    "start_time": "2023-04-04T12:37:59.705Z"
   },
   {
    "duration": 38,
    "start_time": "2023-04-04T12:38:00.152Z"
   },
   {
    "duration": 4,
    "start_time": "2023-04-04T12:38:01.066Z"
   },
   {
    "duration": 8,
    "start_time": "2023-04-04T12:38:02.000Z"
   },
   {
    "duration": 5,
    "start_time": "2023-04-04T12:38:03.868Z"
   },
   {
    "duration": 8,
    "start_time": "2023-04-04T12:38:06.495Z"
   },
   {
    "duration": 4,
    "start_time": "2023-04-04T12:38:07.606Z"
   },
   {
    "duration": 36,
    "start_time": "2023-04-04T12:38:10.461Z"
   },
   {
    "duration": 12,
    "start_time": "2023-04-04T12:38:11.410Z"
   },
   {
    "duration": 4,
    "start_time": "2023-04-04T12:38:12.606Z"
   },
   {
    "duration": 14,
    "start_time": "2023-04-04T12:38:13.691Z"
   },
   {
    "duration": 21,
    "start_time": "2023-04-04T12:38:14.399Z"
   },
   {
    "duration": 19,
    "start_time": "2023-04-04T12:38:14.842Z"
   },
   {
    "duration": 4,
    "start_time": "2023-04-04T12:38:16.380Z"
   },
   {
    "duration": 10,
    "start_time": "2023-04-04T12:38:16.842Z"
   },
   {
    "duration": 6,
    "start_time": "2023-04-04T12:38:18.204Z"
   },
   {
    "duration": 4,
    "start_time": "2023-04-04T12:38:18.762Z"
   },
   {
    "duration": 9,
    "start_time": "2023-04-04T12:38:19.050Z"
   },
   {
    "duration": 10,
    "start_time": "2023-04-04T12:38:19.691Z"
   },
   {
    "duration": 7,
    "start_time": "2023-04-04T12:38:19.853Z"
   },
   {
    "duration": 26,
    "start_time": "2023-04-04T12:38:20.614Z"
   },
   {
    "duration": 14,
    "start_time": "2023-04-04T12:38:21.815Z"
   },
   {
    "duration": 22,
    "start_time": "2023-04-04T12:38:22.013Z"
   },
   {
    "duration": 12,
    "start_time": "2023-04-04T12:38:23.900Z"
   },
   {
    "duration": 22,
    "start_time": "2023-04-04T12:38:24.406Z"
   },
   {
    "duration": 26,
    "start_time": "2023-04-04T12:38:26.035Z"
   },
   {
    "duration": 14,
    "start_time": "2023-04-04T12:38:27.835Z"
   },
   {
    "duration": 24,
    "start_time": "2023-04-04T12:38:28.898Z"
   },
   {
    "duration": 669,
    "start_time": "2023-04-05T08:11:06.061Z"
   },
   {
    "duration": 25,
    "start_time": "2023-04-05T08:11:06.755Z"
   },
   {
    "duration": 16,
    "start_time": "2023-04-05T08:11:07.607Z"
   },
   {
    "duration": 11,
    "start_time": "2023-04-05T08:11:09.159Z"
   },
   {
    "duration": 35,
    "start_time": "2023-04-05T08:11:09.905Z"
   },
   {
    "duration": 4,
    "start_time": "2023-04-05T08:11:10.873Z"
   },
   {
    "duration": 8,
    "start_time": "2023-04-05T08:11:11.616Z"
   },
   {
    "duration": 5,
    "start_time": "2023-04-05T08:11:12.707Z"
   },
   {
    "duration": 7,
    "start_time": "2023-04-05T08:11:13.471Z"
   },
   {
    "duration": 5,
    "start_time": "2023-04-05T08:11:14.174Z"
   },
   {
    "duration": 35,
    "start_time": "2023-04-05T08:11:15.544Z"
   },
   {
    "duration": 12,
    "start_time": "2023-04-05T08:11:16.423Z"
   },
   {
    "duration": 4,
    "start_time": "2023-04-05T08:11:18.080Z"
   },
   {
    "duration": 13,
    "start_time": "2023-04-05T08:11:19.328Z"
   },
   {
    "duration": 21,
    "start_time": "2023-04-05T08:11:20.148Z"
   },
   {
    "duration": 19,
    "start_time": "2023-04-05T08:11:20.611Z"
   },
   {
    "duration": 4,
    "start_time": "2023-04-05T08:11:22.167Z"
   },
   {
    "duration": 16,
    "start_time": "2023-04-05T08:11:22.647Z"
   },
   {
    "duration": 7,
    "start_time": "2023-04-05T08:11:23.732Z"
   },
   {
    "duration": 4,
    "start_time": "2023-04-05T08:11:24.761Z"
   },
   {
    "duration": 9,
    "start_time": "2023-04-05T08:11:25.240Z"
   },
   {
    "duration": 8,
    "start_time": "2023-04-05T08:11:26.955Z"
   },
   {
    "duration": 7,
    "start_time": "2023-04-05T08:11:28.712Z"
   },
   {
    "duration": 1691,
    "start_time": "2023-04-05T08:11:35.977Z"
   },
   {
    "duration": 17,
    "start_time": "2023-04-05T08:13:06.896Z"
   },
   {
    "duration": 23,
    "start_time": "2023-04-05T08:17:36.035Z"
   },
   {
    "duration": 0,
    "start_time": "2023-04-05T08:18:02.507Z"
   },
   {
    "duration": 2392,
    "start_time": "2023-04-05T08:18:07.508Z"
   },
   {
    "duration": 8,
    "start_time": "2023-04-05T08:18:11.163Z"
   },
   {
    "duration": 28,
    "start_time": "2023-04-05T08:19:01.614Z"
   },
   {
    "duration": 16,
    "start_time": "2023-04-05T08:19:13.315Z"
   },
   {
    "duration": 21,
    "start_time": "2023-04-05T08:20:28.472Z"
   },
   {
    "duration": 24,
    "start_time": "2023-04-05T08:31:50.377Z"
   },
   {
    "duration": 26,
    "start_time": "2023-04-05T08:33:01.870Z"
   },
   {
    "duration": 32,
    "start_time": "2023-04-05T08:34:36.724Z"
   },
   {
    "duration": 25,
    "start_time": "2023-04-05T08:34:47.843Z"
   },
   {
    "duration": 30,
    "start_time": "2023-04-05T08:36:42.306Z"
   },
   {
    "duration": 22,
    "start_time": "2023-04-05T08:36:56.369Z"
   },
   {
    "duration": 22,
    "start_time": "2023-04-05T08:37:23.650Z"
   },
   {
    "duration": 20,
    "start_time": "2023-04-05T09:01:31.752Z"
   },
   {
    "duration": 22,
    "start_time": "2023-04-05T09:01:40.022Z"
   },
   {
    "duration": 23,
    "start_time": "2023-04-05T09:02:09.850Z"
   },
   {
    "duration": 22,
    "start_time": "2023-04-05T09:14:06.740Z"
   },
   {
    "duration": 75,
    "start_time": "2023-04-06T09:59:15.687Z"
   },
   {
    "duration": 50,
    "start_time": "2023-04-06T09:59:19.917Z"
   },
   {
    "duration": 54,
    "start_time": "2023-04-06T09:59:51.114Z"
   },
   {
    "duration": 607,
    "start_time": "2023-04-06T09:59:59.916Z"
   },
   {
    "duration": 24,
    "start_time": "2023-04-06T10:00:00.526Z"
   },
   {
    "duration": 18,
    "start_time": "2023-04-06T10:00:00.830Z"
   },
   {
    "duration": 11,
    "start_time": "2023-04-06T10:00:02.051Z"
   },
   {
    "duration": 42,
    "start_time": "2023-04-06T10:00:02.528Z"
   },
   {
    "duration": 12,
    "start_time": "2023-04-06T10:00:03.087Z"
   },
   {
    "duration": 9,
    "start_time": "2023-04-06T10:00:03.423Z"
   },
   {
    "duration": 16,
    "start_time": "2023-04-06T10:00:03.991Z"
   },
   {
    "duration": 15,
    "start_time": "2023-04-06T10:00:04.385Z"
   },
   {
    "duration": 5,
    "start_time": "2023-04-06T10:00:04.776Z"
   },
   {
    "duration": 40,
    "start_time": "2023-04-06T10:00:05.713Z"
   },
   {
    "duration": 11,
    "start_time": "2023-04-06T10:00:06.163Z"
   },
   {
    "duration": 4,
    "start_time": "2023-04-06T10:00:06.657Z"
   },
   {
    "duration": 14,
    "start_time": "2023-04-06T10:00:07.171Z"
   },
   {
    "duration": 26,
    "start_time": "2023-04-06T10:00:07.518Z"
   },
   {
    "duration": 31,
    "start_time": "2023-04-06T10:00:07.665Z"
   },
   {
    "duration": 4,
    "start_time": "2023-04-06T10:00:08.172Z"
   },
   {
    "duration": 12,
    "start_time": "2023-04-06T10:00:08.329Z"
   },
   {
    "duration": 6,
    "start_time": "2023-04-06T10:00:08.670Z"
   },
   {
    "duration": 4,
    "start_time": "2023-04-06T10:00:09.015Z"
   },
   {
    "duration": 10,
    "start_time": "2023-04-06T10:00:09.179Z"
   },
   {
    "duration": 12,
    "start_time": "2023-04-06T10:00:09.715Z"
   },
   {
    "duration": 6,
    "start_time": "2023-04-06T10:00:09.870Z"
   },
   {
    "duration": 3,
    "start_time": "2023-04-06T10:00:10.044Z"
   },
   {
    "duration": 31,
    "start_time": "2023-04-06T10:00:10.627Z"
   },
   {
    "duration": 76,
    "start_time": "2023-04-06T10:00:12.836Z"
   },
   {
    "duration": 13,
    "start_time": "2023-04-06T10:03:05.718Z"
   },
   {
    "duration": 3,
    "start_time": "2023-04-06T10:03:06.348Z"
   },
   {
    "duration": 50,
    "start_time": "2023-04-06T10:03:07.279Z"
   },
   {
    "duration": 34,
    "start_time": "2023-04-06T10:03:46.124Z"
   },
   {
    "duration": 22,
    "start_time": "2023-04-06T10:04:37.451Z"
   },
   {
    "duration": 53,
    "start_time": "2023-04-06T10:06:35.077Z"
   },
   {
    "duration": 11,
    "start_time": "2023-04-06T10:14:19.553Z"
   },
   {
    "duration": 3,
    "start_time": "2023-04-06T10:14:20.034Z"
   },
   {
    "duration": 25,
    "start_time": "2023-04-06T10:14:20.533Z"
   },
   {
    "duration": 32,
    "start_time": "2023-04-06T10:21:49.897Z"
   },
   {
    "duration": 16,
    "start_time": "2023-04-06T10:23:03.021Z"
   },
   {
    "duration": 3,
    "start_time": "2023-04-06T10:23:04.012Z"
   },
   {
    "duration": 25,
    "start_time": "2023-04-06T10:23:05.337Z"
   },
   {
    "duration": 36,
    "start_time": "2023-04-06T10:26:18.479Z"
   },
   {
    "duration": 20,
    "start_time": "2023-04-06T10:29:21.282Z"
   },
   {
    "duration": 9,
    "start_time": "2023-04-06T10:29:21.798Z"
   },
   {
    "duration": 43,
    "start_time": "2023-04-06T10:29:22.272Z"
   },
   {
    "duration": 37,
    "start_time": "2023-04-06T10:29:26.279Z"
   },
   {
    "duration": 13,
    "start_time": "2023-04-06T10:29:28.241Z"
   },
   {
    "duration": 3,
    "start_time": "2023-04-06T10:29:28.925Z"
   },
   {
    "duration": 37,
    "start_time": "2023-04-06T10:29:29.481Z"
   },
   {
    "duration": 13,
    "start_time": "2023-04-06T10:51:06.049Z"
   },
   {
    "duration": 3,
    "start_time": "2023-04-06T10:51:06.468Z"
   },
   {
    "duration": 24,
    "start_time": "2023-04-06T10:51:06.901Z"
   },
   {
    "duration": 21,
    "start_time": "2023-04-06T10:51:07.893Z"
   },
   {
    "duration": 15,
    "start_time": "2023-04-06T10:51:08.694Z"
   },
   {
    "duration": 2,
    "start_time": "2023-04-06T10:51:09.015Z"
   },
   {
    "duration": 25,
    "start_time": "2023-04-06T10:51:09.322Z"
   },
   {
    "duration": 51,
    "start_time": "2023-04-07T11:24:58.241Z"
   }
  ],
  "colab": {
   "provenance": []
  },
  "kernelspec": {
   "display_name": "Python 3 (ipykernel)",
   "language": "python",
   "name": "python3"
  },
  "language_info": {
   "codemirror_mode": {
    "name": "ipython",
    "version": 3
   },
   "file_extension": ".py",
   "mimetype": "text/x-python",
   "name": "python",
   "nbconvert_exporter": "python",
   "pygments_lexer": "ipython3",
   "version": "3.9.5"
  },
  "toc": {
   "base_numbering": 1,
   "nav_menu": {},
   "number_sections": true,
   "sideBar": true,
   "skip_h1_title": true,
   "title_cell": "Table of Contents",
   "title_sidebar": "Contents",
   "toc_cell": false,
   "toc_position": {},
   "toc_section_display": true,
   "toc_window_display": false
  }
 },
 "nbformat": 4,
 "nbformat_minor": 5
}
